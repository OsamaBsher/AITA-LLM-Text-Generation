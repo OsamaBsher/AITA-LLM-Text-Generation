{
 "cells": [
  {
   "cell_type": "code",
   "execution_count": 22,
   "metadata": {},
   "outputs": [],
   "source": [
    "import os\n",
    "import csv\n",
    "import nltk\n",
    "import pandas as pd\n",
    "import re\n",
    "\n",
    "from tqdm import tqdm"
   ]
  },
  {
   "cell_type": "code",
   "execution_count": 23,
   "metadata": {},
   "outputs": [],
   "source": [
    "folder_path = \"/Users/osama/Documents/finalNlu/data/dataSplitting/\"\n",
    "\n",
    "file_paths = []\n",
    "\n",
    "directory = os.path.join(folder_path)\n",
    "for root,dirs,files in os.walk(directory):\n",
    "    for file in files:\n",
    "       if file.endswith(\".csv\") and file.startswith(\"subset\"):\n",
    "           file_paths.append(file)"
   ]
  },
  {
   "cell_type": "code",
   "execution_count": 24,
   "metadata": {},
   "outputs": [
    {
     "data": {
      "text/plain": [
       "['subset_with_title_less_than_512_double_comment.csv',\n",
       " 'subset_without_title_less_than_1024_double_comment.csv',\n",
       " 'subset_without_title_less_than_512_single_comment.csv',\n",
       " 'subset_with_title_less_than_1024_double_comment.csv',\n",
       " 'subset_with_title_less_than_512_single_comment.csv',\n",
       " 'subset_without_title_less_than_1024_single_comment.csv',\n",
       " 'subset_without_title_less_than_512_double_comment.csv',\n",
       " 'subset_with_title_less_than_1024_single_comment.csv']"
      ]
     },
     "execution_count": 24,
     "metadata": {},
     "output_type": "execute_result"
    }
   ],
   "source": [
    "file_paths"
   ]
  },
  {
   "cell_type": "code",
   "execution_count": 25,
   "metadata": {},
   "outputs": [
    {
     "name": "stdout",
     "output_type": "stream",
     "text": [
      "Filename: balanced_subset_with_title_less_than_512_double_comment.csv\n",
      "Number of nta original: 282688\n",
      "Number of yta original: 79878\n"
     ]
    },
    {
     "name": "stderr",
     "output_type": "stream",
     "text": [
      "362566it [00:11, 31595.87it/s]\n"
     ]
    },
    {
     "name": "stdout",
     "output_type": "stream",
     "text": [
      "Number of nta new dataset: 79878\n",
      "Number of yta new dataset: 79878\n",
      "\n",
      "Filename: balanced_subset_without_title_less_than_1024_double_comment.csv\n",
      "Number of nta original: 430536\n",
      "Number of yta original: 107984\n"
     ]
    },
    {
     "name": "stderr",
     "output_type": "stream",
     "text": [
      "538520it [00:18, 28665.21it/s]\n"
     ]
    },
    {
     "name": "stdout",
     "output_type": "stream",
     "text": [
      "Number of nta new dataset: 107984\n",
      "Number of yta new dataset: 107984\n",
      "\n",
      "Filename: balanced_subset_without_title_less_than_512_single_comment.csv\n",
      "Number of nta original: 145617\n",
      "Number of yta original: 40950\n"
     ]
    },
    {
     "name": "stderr",
     "output_type": "stream",
     "text": [
      "186567it [00:05, 31711.15it/s]\n"
     ]
    },
    {
     "name": "stdout",
     "output_type": "stream",
     "text": [
      "Number of nta new dataset: 40950\n",
      "Number of yta new dataset: 40950\n",
      "\n",
      "Filename: balanced_subset_with_title_less_than_1024_double_comment.csv\n",
      "Number of nta original: 430374\n",
      "Number of yta original: 107952\n"
     ]
    },
    {
     "name": "stderr",
     "output_type": "stream",
     "text": [
      "538326it [00:17, 30436.04it/s]\n"
     ]
    },
    {
     "name": "stdout",
     "output_type": "stream",
     "text": [
      "Number of nta new dataset: 107952\n",
      "Number of yta new dataset: 107952\n",
      "\n",
      "Filename: balanced_subset_with_title_less_than_512_single_comment.csv\n",
      "Number of nta original: 141344\n",
      "Number of yta original: 39939\n"
     ]
    },
    {
     "name": "stderr",
     "output_type": "stream",
     "text": [
      "181283it [00:05, 32023.76it/s]\n"
     ]
    },
    {
     "name": "stdout",
     "output_type": "stream",
     "text": [
      "Number of nta new dataset: 39939\n",
      "Number of yta new dataset: 39939\n",
      "\n",
      "Filename: balanced_subset_without_title_less_than_1024_single_comment.csv\n",
      "Number of nta original: 215268\n",
      "Number of yta original: 53992\n"
     ]
    },
    {
     "name": "stderr",
     "output_type": "stream",
     "text": [
      "269260it [00:08, 30308.33it/s]\n"
     ]
    },
    {
     "name": "stdout",
     "output_type": "stream",
     "text": [
      "Number of nta new dataset: 53992\n",
      "Number of yta new dataset: 53992\n",
      "\n",
      "Filename: balanced_subset_without_title_less_than_512_double_comment.csv\n",
      "Number of nta original: 291234\n",
      "Number of yta original: 81900\n"
     ]
    },
    {
     "name": "stderr",
     "output_type": "stream",
     "text": [
      "373134it [00:11, 31815.32it/s]\n"
     ]
    },
    {
     "name": "stdout",
     "output_type": "stream",
     "text": [
      "Number of nta new dataset: 81900\n",
      "Number of yta new dataset: 81900\n",
      "\n",
      "Filename: balanced_subset_with_title_less_than_1024_single_comment.csv\n",
      "Number of nta original: 215187\n",
      "Number of yta original: 53976\n"
     ]
    },
    {
     "name": "stderr",
     "output_type": "stream",
     "text": [
      "269163it [00:09, 29874.61it/s]"
     ]
    },
    {
     "name": "stdout",
     "output_type": "stream",
     "text": [
      "Number of nta new dataset: 53976\n",
      "Number of yta new dataset: 53976\n",
      "\n"
     ]
    },
    {
     "name": "stderr",
     "output_type": "stream",
     "text": [
      "\n"
     ]
    }
   ],
   "source": [
    "for file_path in file_paths:\n",
    "\n",
    "    file_location = folder_path + file_path\n",
    "\n",
    "    # Read file\n",
    "    df = pd.read_csv(file_location)\n",
    "\n",
    "    new_file = \"balanced_\" + file_path\n",
    "\n",
    "    # Prepare write file\n",
    "    file = open(new_file,\"w\",encoding=\"utf-8\", newline=\"\") \n",
    "    writer = csv.writer(file, quoting=csv.QUOTE_ALL)\n",
    "    writer.writerow([\"id\", \"text\", \"verdict\", \"comment\", \"score\"])\n",
    "\n",
    "\n",
    "    df['verdict'] = df['verdict'].apply(lambda x: 0 if x in ['nta', 'nah'] else 1) \n",
    "\n",
    "    \n",
    "    nta_count = df['verdict'].value_counts()[0]\n",
    "    yta_count = df['verdict'].value_counts()[1]\n",
    "\n",
    "    print(\"Filename:\", new_file)\n",
    "    print(\"Number of nta original:\", nta_count)\n",
    "    print(\"Number of yta original:\", yta_count)\n",
    "\n",
    "    df = df.sort_values(by=['score'], ascending=False)\n",
    "\n",
    "    nta_counter = 0\n",
    "    yta_counter = 0\n",
    "\n",
    "    for index, row in tqdm(df.iterrows()):\n",
    "\n",
    "        id = row['id']\n",
    "        text = row['text']\n",
    "        verdict = row['verdict']\n",
    "        comment = row['comment']\n",
    "        score = row['score']\n",
    "\n",
    "        if verdict == 0 and nta_counter == yta_count:\n",
    "            continue\n",
    "        elif verdict == 0:\n",
    "            nta_counter += 1\n",
    "        else:\n",
    "            yta_counter += 1\n",
    "\n",
    "        row = [id, text, verdict, comment, score]\n",
    "\n",
    "        writer.writerow(row)\n",
    "\n",
    "    file.close()\n",
    "\n",
    "    \n",
    "    print(\"Number of nta new dataset:\", nta_counter)\n",
    "    print(\"Number of yta new dataset:\", yta_counter)\n",
    "    print()\n"
   ]
  }
 ],
 "metadata": {
  "kernelspec": {
   "display_name": "Python 3.9.6 64-bit",
   "language": "python",
   "name": "python3"
  },
  "language_info": {
   "codemirror_mode": {
    "name": "ipython",
    "version": 3
   },
   "file_extension": ".py",
   "mimetype": "text/x-python",
   "name": "python",
   "nbconvert_exporter": "python",
   "pygments_lexer": "ipython3",
   "version": "3.9.6"
  },
  "orig_nbformat": 4,
  "vscode": {
   "interpreter": {
    "hash": "31f2aee4e71d21fbe5cf8b01ff0e069b9275f58929596ceb00d14d90e3e16cd6"
   }
  }
 },
 "nbformat": 4,
 "nbformat_minor": 2
}
