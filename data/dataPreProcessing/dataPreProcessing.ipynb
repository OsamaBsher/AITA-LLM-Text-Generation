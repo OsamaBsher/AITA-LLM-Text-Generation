{
 "cells": [
  {
   "cell_type": "code",
   "execution_count": 13,
   "metadata": {},
   "outputs": [],
   "source": [
    "import pandas as pd\n",
    "import csv\n",
    "import re"
   ]
  },
  {
   "cell_type": "code",
   "execution_count": 14,
   "metadata": {},
   "outputs": [
    {
     "data": {
      "text/plain": [
       "Not the A-hole       299888\n",
       "Asshole               88596\n",
       "No A-holes here       39962\n",
       "Everyone Sucks        24055\n",
       "Not enough info        9740\n",
       "                      ...  \n",
       "Move on                   1\n",
       "Lesser Asshole            1\n",
       "META Asshole              1\n",
       "**NEW** META              1\n",
       "Justified Asshole         1\n",
       "Name: verdict, Length: 184, dtype: int64"
      ]
     },
     "execution_count": 14,
     "metadata": {},
     "output_type": "execute_result"
    }
   ],
   "source": [
    "# praw_scraper_df = pd.read_csv(\"/Users/osama/Documents/finalNlu/data/mergeScrapedData/full_dataset.csv\")\n",
    "# praw_scraper_df['verdict'].value_counts()"
   ]
  },
  {
   "cell_type": "code",
   "execution_count": 3,
   "metadata": {},
   "outputs": [],
   "source": [
    "# Regex patterns\n",
    "remove_empty_posts_regex = r'\\[removed\\]|\\[deleted\\]'\n",
    "remove_empty_posts_regex_pattern = re.compile(remove_empty_posts_regex, flags=0)"
   ]
  },
  {
   "cell_type": "code",
   "execution_count": 10,
   "metadata": {},
   "outputs": [],
   "source": [
    "verdicts = {\n",
    "    'asshole',\n",
    "    'everyone sucks',\n",
    "    'not the a-hole',\n",
    "    'no a-holes here'\n",
    "}"
   ]
  },
  {
   "cell_type": "code",
   "execution_count": 11,
   "metadata": {},
   "outputs": [],
   "source": [
    "filename = '/Users/osama/Documents/finalNlu/data/mergeScrapedData/pre_processed_dataset.csv'\n",
    "\n",
    "f = open('preProcessedDataset.csv',\"w\",encoding=\"utf-8\", newline=\"\") \n",
    "writer = csv.writer(f, quoting=csv.QUOTE_ALL)\n",
    "writer.writerow([\"id\", \"title\", \"text\", \"edited\", \"verdict\", \"comment1\",  \"comment2\",  \"comment3\",  \"comment4\",  \"comment5\",  \"comment6\",  \"comment7\",  \"comment8\",  \"comment9\",  \"comment10\", \"score\", \"url\", \"time_created\"])\n",
    "\n",
    "with open(filename, 'r', encoding = \"utf-8\") as csvfile:\n",
    "\n",
    "    datareader = csv.reader(csvfile)\n",
    "\n",
    "    for index, row in enumerate(datareader):\n",
    "\n",
    "        # Skip column header row\n",
    "        if index == 0: continue\n",
    "\n",
    "        # Check for empty rows\n",
    "        if not row: continue\n",
    "        if len(row) < 18: continue\n",
    "\n",
    "        # If removed title skip\n",
    "        if remove_empty_posts_regex_pattern.search(row[1]) : continue\n",
    "\n",
    "        # If removed text skip\n",
    "        if remove_empty_posts_regex_pattern.search(row[2]) : continue\n",
    "\n",
    "        # If no first comment skip\n",
    "        if \"\" == row[5] or type(row[5]) != str or \"nan\" == row[5]: continue\n",
    "\n",
    "        # If no second comment skip\n",
    "        if \"\" == row[6] or type(row[6]) != str or \"nan\" == row[6]: continue\n",
    "\n",
    "        # If empty text skip\n",
    "        if \"\" == row[2] or type(row[2]) != str or \"nan\" == row[2]: continue\n",
    "\n",
    "        # If empty title skip\n",
    "        if \"\" == row[1] or type(row[1]) != str or \"nan\" == row[1]: continue\n",
    "\n",
    "        # If verdit not of the one mentioned skip\n",
    "        if row[4].lower() not in verdicts: continue\n",
    "\n",
    "        writer.writerow(row)\n",
    "\n",
    "f.close()\n"
   ]
  }
 ],
 "metadata": {
  "kernelspec": {
   "display_name": "Python 3.9.6 64-bit",
   "language": "python",
   "name": "python3"
  },
  "language_info": {
   "codemirror_mode": {
    "name": "ipython",
    "version": 3
   },
   "file_extension": ".py",
   "mimetype": "text/x-python",
   "name": "python",
   "nbconvert_exporter": "python",
   "pygments_lexer": "ipython3",
   "version": "3.9.6"
  },
  "orig_nbformat": 4,
  "vscode": {
   "interpreter": {
    "hash": "31f2aee4e71d21fbe5cf8b01ff0e069b9275f58929596ceb00d14d90e3e16cd6"
   }
  }
 },
 "nbformat": 4,
 "nbformat_minor": 2
}
