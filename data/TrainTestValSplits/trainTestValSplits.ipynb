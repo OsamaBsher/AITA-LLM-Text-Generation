{
 "cells": [
  {
   "cell_type": "code",
   "execution_count": 20,
   "metadata": {},
   "outputs": [],
   "source": [
    "import os\n",
    "import csv\n",
    "import nltk\n",
    "import pandas as pd\n",
    "import re\n",
    "\n",
    "from sklearn.model_selection import train_test_split\n",
    "from tqdm import tqdm"
   ]
  },
  {
   "cell_type": "code",
   "execution_count": 21,
   "metadata": {},
   "outputs": [],
   "source": [
    "folder_path = \"/Users/osama/Documents/finalNlu/data/dataBalancing/\"\n",
    "\n",
    "\n",
    "\n",
    "file_paths = []\n",
    "\n",
    "directory = os.path.join(folder_path)\n",
    "for root,dirs,files in os.walk(directory):\n",
    "    for file in files:\n",
    "       if file.endswith(\".csv\"):\n",
    "           file_paths.append(file)"
   ]
  },
  {
   "cell_type": "code",
   "execution_count": 22,
   "metadata": {},
   "outputs": [
    {
     "name": "stdout",
     "output_type": "stream",
     "text": [
      "['balanced_subset_without_title_less_than_512_double_comment.csv', 'balanced_subset_without_title_less_than_1024_single_comment.csv', 'balanced_subset_with_title_less_than_512_single_comment.csv', 'balanced_subset_with_title_less_than_1024_single_comment.csv', 'balanced_subset_without_title_less_than_512_single_comment.csv', 'balanced_subset_without_title_less_than_1024_double_comment.csv', 'balanced_subset_with_title_less_than_1024_double_comment.csv', 'balanced_subset_with_title_less_than_512_double_comment.csv']\n"
     ]
    }
   ],
   "source": [
    "print(file_paths)"
   ]
  },
  {
   "cell_type": "code",
   "execution_count": 23,
   "metadata": {},
   "outputs": [],
   "source": [
    "current_folder_path = \"/Users/osama/Documents/finalNlu/data/TrainTestValSplits/\""
   ]
  },
  {
   "cell_type": "code",
   "execution_count": 24,
   "metadata": {},
   "outputs": [
    {
     "name": "stdout",
     "output_type": "stream",
     "text": [
      "full length: 163800\n",
      "train length: 131040\n",
      "test length: 16380\n",
      "validation length: 16380\n",
      "\n",
      "full length: 107984\n",
      "train length: 86387\n",
      "test length: 10798\n",
      "validation length: 10799\n",
      "\n",
      "full length: 79878\n",
      "train length: 63902\n",
      "test length: 7988\n",
      "validation length: 7988\n",
      "\n",
      "full length: 107952\n",
      "train length: 86361\n",
      "test length: 10795\n",
      "validation length: 10796\n",
      "\n",
      "full length: 81900\n",
      "train length: 65520\n",
      "test length: 8190\n",
      "validation length: 8190\n",
      "\n",
      "full length: 215968\n",
      "train length: 172774\n",
      "test length: 21597\n",
      "validation length: 21597\n",
      "\n",
      "full length: 215904\n",
      "train length: 172723\n",
      "test length: 21590\n",
      "validation length: 21591\n",
      "\n",
      "full length: 159756\n",
      "train length: 127804\n",
      "test length: 15976\n",
      "validation length: 15976\n",
      "\n"
     ]
    }
   ],
   "source": [
    "for file_path in file_paths:\n",
    "\n",
    "    file_location = folder_path + file_path\n",
    "\n",
    "    folder = file_path.strip(\".csv\")\n",
    "    df = pd.read_csv(file_location)\n",
    "    \n",
    "    try:\n",
    "        os.mkdir(folder)\n",
    "    except:\n",
    "        pass\n",
    "\n",
    "    new_path = current_folder_path + folder + \"/\"\n",
    "\n",
    "    train, temp = train_test_split(df, test_size=0.2)\n",
    "    test, val = train_test_split(temp, test_size=0.5)\n",
    "\n",
    "    print(\"full length:\", len(df))\n",
    "    print(\"train length:\", len(train))\n",
    "    print(\"test length:\", len(test))\n",
    "    print(\"validation length:\", len(val))\n",
    "    print()\n",
    "\n",
    "    train.to_csv( new_path + \"train_\" + file_path ) \n",
    "    val.to_csv( new_path + \"test_\" + file_path ) \n",
    "    test.to_csv( new_path + \"val_\" + file_path ) "
   ]
  }
 ],
 "metadata": {
  "kernelspec": {
   "display_name": "Python 3.9.6 64-bit",
   "language": "python",
   "name": "python3"
  },
  "language_info": {
   "codemirror_mode": {
    "name": "ipython",
    "version": 3
   },
   "file_extension": ".py",
   "mimetype": "text/x-python",
   "name": "python",
   "nbconvert_exporter": "python",
   "pygments_lexer": "ipython3",
   "version": "3.9.6"
  },
  "orig_nbformat": 4,
  "vscode": {
   "interpreter": {
    "hash": "31f2aee4e71d21fbe5cf8b01ff0e069b9275f58929596ceb00d14d90e3e16cd6"
   }
  }
 },
 "nbformat": 4,
 "nbformat_minor": 2
}
