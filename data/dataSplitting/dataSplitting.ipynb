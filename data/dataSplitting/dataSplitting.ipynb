{
 "cells": [
  {
   "cell_type": "code",
   "execution_count": 56,
   "metadata": {},
   "outputs": [],
   "source": [
    "import csv\n",
    "import nltk\n",
    "import pandas as pd\n",
    "import re\n",
    "\n",
    "from tqdm import tqdm"
   ]
  },
  {
   "cell_type": "code",
   "execution_count": 57,
   "metadata": {},
   "outputs": [],
   "source": [
    "df = pd.read_csv('/Users/osama/Documents/finalNlu/data/dataSplitting/dataset_with_length_of_fields.csv')"
   ]
  },
  {
   "cell_type": "code",
   "execution_count": 58,
   "metadata": {},
   "outputs": [
    {
     "data": {
      "text/html": [
       "<div>\n",
       "<style scoped>\n",
       "    .dataframe tbody tr th:only-of-type {\n",
       "        vertical-align: middle;\n",
       "    }\n",
       "\n",
       "    .dataframe tbody tr th {\n",
       "        vertical-align: top;\n",
       "    }\n",
       "\n",
       "    .dataframe thead th {\n",
       "        text-align: right;\n",
       "    }\n",
       "</style>\n",
       "<table border=\"1\" class=\"dataframe\">\n",
       "  <thead>\n",
       "    <tr style=\"text-align: right;\">\n",
       "      <th></th>\n",
       "      <th>Unnamed: 0</th>\n",
       "      <th>id</th>\n",
       "      <th>title</th>\n",
       "      <th>text</th>\n",
       "      <th>verdict</th>\n",
       "      <th>comment1</th>\n",
       "      <th>comment2</th>\n",
       "      <th>score</th>\n",
       "      <th>titleAndText</th>\n",
       "      <th>titleAndTextLength</th>\n",
       "      <th>textLength</th>\n",
       "      <th>comment1Length</th>\n",
       "      <th>comment2Length</th>\n",
       "    </tr>\n",
       "  </thead>\n",
       "  <tbody>\n",
       "    <tr>\n",
       "      <th>0</th>\n",
       "      <td>0</td>\n",
       "      <td>4pcrle</td>\n",
       "      <td>aita for wanting to celebrate my birthday</td>\n",
       "      <td>i turned 30 on monday. i don't have a problem ...</td>\n",
       "      <td>nta</td>\n",
       "      <td>i think you know your nta, it seems like you j...</td>\n",
       "      <td>definitely nta. i suffer from depression and a...</td>\n",
       "      <td>15</td>\n",
       "      <td>aita for wanting to celebrate my birthday i tu...</td>\n",
       "      <td>475</td>\n",
       "      <td>468</td>\n",
       "      <td>194</td>\n",
       "      <td>42</td>\n",
       "    </tr>\n",
       "  </tbody>\n",
       "</table>\n",
       "</div>"
      ],
      "text/plain": [
       "   Unnamed: 0      id                                      title  \\\n",
       "0           0  4pcrle  aita for wanting to celebrate my birthday   \n",
       "\n",
       "                                                text verdict  \\\n",
       "0  i turned 30 on monday. i don't have a problem ...     nta   \n",
       "\n",
       "                                            comment1  \\\n",
       "0  i think you know your nta, it seems like you j...   \n",
       "\n",
       "                                            comment2  score  \\\n",
       "0  definitely nta. i suffer from depression and a...     15   \n",
       "\n",
       "                                        titleAndText  titleAndTextLength  \\\n",
       "0  aita for wanting to celebrate my birthday i tu...                 475   \n",
       "\n",
       "   textLength  comment1Length  comment2Length  \n",
       "0         468             194              42  "
      ]
     },
     "execution_count": 58,
     "metadata": {},
     "output_type": "execute_result"
    }
   ],
   "source": [
    "df.head(1)"
   ]
  },
  {
   "cell_type": "code",
   "execution_count": 59,
   "metadata": {},
   "outputs": [
    {
     "data": {
      "text/html": [
       "<div>\n",
       "<style scoped>\n",
       "    .dataframe tbody tr th:only-of-type {\n",
       "        vertical-align: middle;\n",
       "    }\n",
       "\n",
       "    .dataframe tbody tr th {\n",
       "        vertical-align: top;\n",
       "    }\n",
       "\n",
       "    .dataframe thead th {\n",
       "        text-align: right;\n",
       "    }\n",
       "</style>\n",
       "<table border=\"1\" class=\"dataframe\">\n",
       "  <thead>\n",
       "    <tr style=\"text-align: right;\">\n",
       "      <th></th>\n",
       "      <th>Unnamed: 0</th>\n",
       "      <th>id</th>\n",
       "      <th>verdict</th>\n",
       "      <th>comment1</th>\n",
       "      <th>comment2</th>\n",
       "      <th>score</th>\n",
       "      <th>titleAndText</th>\n",
       "      <th>titleAndTextLength</th>\n",
       "      <th>comment1Length</th>\n",
       "      <th>comment2Length</th>\n",
       "    </tr>\n",
       "  </thead>\n",
       "  <tbody>\n",
       "    <tr>\n",
       "      <th>0</th>\n",
       "      <td>0</td>\n",
       "      <td>4pcrle</td>\n",
       "      <td>nta</td>\n",
       "      <td>i think you know your nta, it seems like you j...</td>\n",
       "      <td>definitely nta. i suffer from depression and a...</td>\n",
       "      <td>15</td>\n",
       "      <td>aita for wanting to celebrate my birthday i tu...</td>\n",
       "      <td>475</td>\n",
       "      <td>194</td>\n",
       "      <td>42</td>\n",
       "    </tr>\n",
       "  </tbody>\n",
       "</table>\n",
       "</div>"
      ],
      "text/plain": [
       "   Unnamed: 0      id verdict  \\\n",
       "0           0  4pcrle     nta   \n",
       "\n",
       "                                            comment1  \\\n",
       "0  i think you know your nta, it seems like you j...   \n",
       "\n",
       "                                            comment2  score  \\\n",
       "0  definitely nta. i suffer from depression and a...     15   \n",
       "\n",
       "                                        titleAndText  titleAndTextLength  \\\n",
       "0  aita for wanting to celebrate my birthday i tu...                 475   \n",
       "\n",
       "   comment1Length  comment2Length  \n",
       "0             194              42  "
      ]
     },
     "execution_count": 59,
     "metadata": {},
     "output_type": "execute_result"
    }
   ],
   "source": [
    "withTitleDf = df.copy()\n",
    "withTitleDf = withTitleDf.drop(['title', 'text', 'textLength'], axis=1)\n",
    "withTitleDf.head(1)"
   ]
  },
  {
   "cell_type": "code",
   "execution_count": 60,
   "metadata": {},
   "outputs": [
    {
     "data": {
      "text/plain": [
       "270709"
      ]
     },
     "execution_count": 60,
     "metadata": {},
     "output_type": "execute_result"
    }
   ],
   "source": [
    "len(withTitleDf)"
   ]
  },
  {
   "cell_type": "code",
   "execution_count": 61,
   "metadata": {},
   "outputs": [
    {
     "data": {
      "text/html": [
       "<div>\n",
       "<style scoped>\n",
       "    .dataframe tbody tr th:only-of-type {\n",
       "        vertical-align: middle;\n",
       "    }\n",
       "\n",
       "    .dataframe tbody tr th {\n",
       "        vertical-align: top;\n",
       "    }\n",
       "\n",
       "    .dataframe thead th {\n",
       "        text-align: right;\n",
       "    }\n",
       "</style>\n",
       "<table border=\"1\" class=\"dataframe\">\n",
       "  <thead>\n",
       "    <tr style=\"text-align: right;\">\n",
       "      <th></th>\n",
       "      <th>Unnamed: 0</th>\n",
       "      <th>id</th>\n",
       "      <th>text</th>\n",
       "      <th>verdict</th>\n",
       "      <th>comment1</th>\n",
       "      <th>comment2</th>\n",
       "      <th>score</th>\n",
       "      <th>textLength</th>\n",
       "      <th>comment1Length</th>\n",
       "      <th>comment2Length</th>\n",
       "    </tr>\n",
       "  </thead>\n",
       "  <tbody>\n",
       "    <tr>\n",
       "      <th>0</th>\n",
       "      <td>0</td>\n",
       "      <td>4pcrle</td>\n",
       "      <td>i turned 30 on monday. i don't have a problem ...</td>\n",
       "      <td>nta</td>\n",
       "      <td>i think you know your nta, it seems like you j...</td>\n",
       "      <td>definitely nta. i suffer from depression and a...</td>\n",
       "      <td>15</td>\n",
       "      <td>468</td>\n",
       "      <td>194</td>\n",
       "      <td>42</td>\n",
       "    </tr>\n",
       "  </tbody>\n",
       "</table>\n",
       "</div>"
      ],
      "text/plain": [
       "   Unnamed: 0      id                                               text  \\\n",
       "0           0  4pcrle  i turned 30 on monday. i don't have a problem ...   \n",
       "\n",
       "  verdict                                           comment1  \\\n",
       "0     nta  i think you know your nta, it seems like you j...   \n",
       "\n",
       "                                            comment2  score  textLength  \\\n",
       "0  definitely nta. i suffer from depression and a...     15         468   \n",
       "\n",
       "   comment1Length  comment2Length  \n",
       "0             194              42  "
      ]
     },
     "execution_count": 61,
     "metadata": {},
     "output_type": "execute_result"
    }
   ],
   "source": [
    "withoutTitleDf = df.copy()\n",
    "withoutTitleDf = withoutTitleDf.drop(['title', 'titleAndText', 'titleAndTextLength'], axis=1)\n",
    "withoutTitleDf.head(1)"
   ]
  },
  {
   "cell_type": "code",
   "execution_count": 62,
   "metadata": {},
   "outputs": [
    {
     "data": {
      "text/plain": [
       "270709"
      ]
     },
     "execution_count": 62,
     "metadata": {},
     "output_type": "execute_result"
    }
   ],
   "source": [
    "len(withoutTitleDf)"
   ]
  },
  {
   "cell_type": "code",
   "execution_count": 63,
   "metadata": {},
   "outputs": [],
   "source": [
    "withTitleDfLessThan512 = withTitleDf[withTitleDf['titleAndTextLength'] < 512] \n",
    "withTitleDfLessThan1024 = withTitleDf[withTitleDf['titleAndTextLength'] < 1024] "
   ]
  },
  {
   "cell_type": "code",
   "execution_count": 64,
   "metadata": {},
   "outputs": [
    {
     "data": {
      "text/plain": [
       "181283"
      ]
     },
     "execution_count": 64,
     "metadata": {},
     "output_type": "execute_result"
    }
   ],
   "source": [
    "len(withTitleDfLessThan512)"
   ]
  },
  {
   "cell_type": "code",
   "execution_count": 65,
   "metadata": {},
   "outputs": [
    {
     "data": {
      "text/plain": [
       "269163"
      ]
     },
     "execution_count": 65,
     "metadata": {},
     "output_type": "execute_result"
    }
   ],
   "source": [
    "len(withTitleDfLessThan1024)"
   ]
  },
  {
   "cell_type": "code",
   "execution_count": 66,
   "metadata": {},
   "outputs": [],
   "source": [
    "withoutTitleDfLessThan512 = withoutTitleDf[withoutTitleDf['textLength'] < 512] \n",
    "withoutTitleDfLessThan1024 = withoutTitleDf[withoutTitleDf['textLength'] < 1024] "
   ]
  },
  {
   "cell_type": "code",
   "execution_count": 67,
   "metadata": {},
   "outputs": [
    {
     "data": {
      "text/plain": [
       "186567"
      ]
     },
     "execution_count": 67,
     "metadata": {},
     "output_type": "execute_result"
    }
   ],
   "source": [
    "len(withoutTitleDfLessThan512)"
   ]
  },
  {
   "cell_type": "code",
   "execution_count": 68,
   "metadata": {},
   "outputs": [
    {
     "data": {
      "text/plain": [
       "269260"
      ]
     },
     "execution_count": 68,
     "metadata": {},
     "output_type": "execute_result"
    }
   ],
   "source": [
    "len(withoutTitleDfLessThan1024)"
   ]
  },
  {
   "cell_type": "code",
   "execution_count": 69,
   "metadata": {},
   "outputs": [],
   "source": [
    "withTitleDfLessThan512singleComment = withTitleDfLessThan512.drop(['comment2', 'titleAndTextLength', 'comment1Length', 'comment2Length'], axis=1).copy().rename(columns={\"comment1\": \"comment\", \"titleAndText\": \"text\"})\n",
    "withTitleDfLessThan1024singleComment = withTitleDfLessThan1024.drop(['comment2', 'titleAndTextLength', 'comment1Length', 'comment2Length'], axis=1).copy().rename(columns={\"comment1\": \"comment\", \"titleAndText\": \"text\"})\n",
    "withoutTitleDfLessThan512singleComment = withoutTitleDfLessThan512.drop(['comment2', 'textLength', 'comment1Length', 'comment2Length'], axis=1).copy().rename(columns={\"comment1\": \"comment\"})\n",
    "withoutTitleDfLessThan1024singleComment = withoutTitleDfLessThan1024.drop(['comment2', 'textLength', 'comment1Length', 'comment2Length'], axis=1).copy().rename(columns={\"comment1\": \"comment\"})"
   ]
  },
  {
   "cell_type": "code",
   "execution_count": 70,
   "metadata": {},
   "outputs": [
    {
     "data": {
      "text/html": [
       "<div>\n",
       "<style scoped>\n",
       "    .dataframe tbody tr th:only-of-type {\n",
       "        vertical-align: middle;\n",
       "    }\n",
       "\n",
       "    .dataframe tbody tr th {\n",
       "        vertical-align: top;\n",
       "    }\n",
       "\n",
       "    .dataframe thead th {\n",
       "        text-align: right;\n",
       "    }\n",
       "</style>\n",
       "<table border=\"1\" class=\"dataframe\">\n",
       "  <thead>\n",
       "    <tr style=\"text-align: right;\">\n",
       "      <th></th>\n",
       "      <th>Unnamed: 0</th>\n",
       "      <th>id</th>\n",
       "      <th>verdict</th>\n",
       "      <th>comment</th>\n",
       "      <th>score</th>\n",
       "      <th>text</th>\n",
       "    </tr>\n",
       "  </thead>\n",
       "  <tbody>\n",
       "    <tr>\n",
       "      <th>0</th>\n",
       "      <td>0</td>\n",
       "      <td>4pcrle</td>\n",
       "      <td>nta</td>\n",
       "      <td>i think you know your nta, it seems like you j...</td>\n",
       "      <td>15</td>\n",
       "      <td>aita for wanting to celebrate my birthday i tu...</td>\n",
       "    </tr>\n",
       "  </tbody>\n",
       "</table>\n",
       "</div>"
      ],
      "text/plain": [
       "   Unnamed: 0      id verdict  \\\n",
       "0           0  4pcrle     nta   \n",
       "\n",
       "                                             comment  score  \\\n",
       "0  i think you know your nta, it seems like you j...     15   \n",
       "\n",
       "                                                text  \n",
       "0  aita for wanting to celebrate my birthday i tu...  "
      ]
     },
     "execution_count": 70,
     "metadata": {},
     "output_type": "execute_result"
    }
   ],
   "source": [
    "withTitleDfLessThan512singleComment.head(1)"
   ]
  },
  {
   "cell_type": "code",
   "execution_count": 71,
   "metadata": {},
   "outputs": [
    {
     "data": {
      "text/html": [
       "<div>\n",
       "<style scoped>\n",
       "    .dataframe tbody tr th:only-of-type {\n",
       "        vertical-align: middle;\n",
       "    }\n",
       "\n",
       "    .dataframe tbody tr th {\n",
       "        vertical-align: top;\n",
       "    }\n",
       "\n",
       "    .dataframe thead th {\n",
       "        text-align: right;\n",
       "    }\n",
       "</style>\n",
       "<table border=\"1\" class=\"dataframe\">\n",
       "  <thead>\n",
       "    <tr style=\"text-align: right;\">\n",
       "      <th></th>\n",
       "      <th>Unnamed: 0</th>\n",
       "      <th>id</th>\n",
       "      <th>verdict</th>\n",
       "      <th>comment</th>\n",
       "      <th>score</th>\n",
       "      <th>text</th>\n",
       "    </tr>\n",
       "  </thead>\n",
       "  <tbody>\n",
       "    <tr>\n",
       "      <th>0</th>\n",
       "      <td>0</td>\n",
       "      <td>4pcrle</td>\n",
       "      <td>nta</td>\n",
       "      <td>i think you know your nta, it seems like you j...</td>\n",
       "      <td>15</td>\n",
       "      <td>aita for wanting to celebrate my birthday i tu...</td>\n",
       "    </tr>\n",
       "  </tbody>\n",
       "</table>\n",
       "</div>"
      ],
      "text/plain": [
       "   Unnamed: 0      id verdict  \\\n",
       "0           0  4pcrle     nta   \n",
       "\n",
       "                                             comment  score  \\\n",
       "0  i think you know your nta, it seems like you j...     15   \n",
       "\n",
       "                                                text  \n",
       "0  aita for wanting to celebrate my birthday i tu...  "
      ]
     },
     "execution_count": 71,
     "metadata": {},
     "output_type": "execute_result"
    }
   ],
   "source": [
    "withTitleDfLessThan1024singleComment.head(1)"
   ]
  },
  {
   "cell_type": "code",
   "execution_count": 72,
   "metadata": {},
   "outputs": [
    {
     "data": {
      "text/html": [
       "<div>\n",
       "<style scoped>\n",
       "    .dataframe tbody tr th:only-of-type {\n",
       "        vertical-align: middle;\n",
       "    }\n",
       "\n",
       "    .dataframe tbody tr th {\n",
       "        vertical-align: top;\n",
       "    }\n",
       "\n",
       "    .dataframe thead th {\n",
       "        text-align: right;\n",
       "    }\n",
       "</style>\n",
       "<table border=\"1\" class=\"dataframe\">\n",
       "  <thead>\n",
       "    <tr style=\"text-align: right;\">\n",
       "      <th></th>\n",
       "      <th>Unnamed: 0</th>\n",
       "      <th>id</th>\n",
       "      <th>text</th>\n",
       "      <th>verdict</th>\n",
       "      <th>comment</th>\n",
       "      <th>score</th>\n",
       "    </tr>\n",
       "  </thead>\n",
       "  <tbody>\n",
       "    <tr>\n",
       "      <th>0</th>\n",
       "      <td>0</td>\n",
       "      <td>4pcrle</td>\n",
       "      <td>i turned 30 on monday. i don't have a problem ...</td>\n",
       "      <td>nta</td>\n",
       "      <td>i think you know your nta, it seems like you j...</td>\n",
       "      <td>15</td>\n",
       "    </tr>\n",
       "  </tbody>\n",
       "</table>\n",
       "</div>"
      ],
      "text/plain": [
       "   Unnamed: 0      id                                               text  \\\n",
       "0           0  4pcrle  i turned 30 on monday. i don't have a problem ...   \n",
       "\n",
       "  verdict                                            comment  score  \n",
       "0     nta  i think you know your nta, it seems like you j...     15  "
      ]
     },
     "execution_count": 72,
     "metadata": {},
     "output_type": "execute_result"
    }
   ],
   "source": [
    "withoutTitleDfLessThan512singleComment.head(1)"
   ]
  },
  {
   "cell_type": "code",
   "execution_count": 73,
   "metadata": {},
   "outputs": [
    {
     "data": {
      "text/html": [
       "<div>\n",
       "<style scoped>\n",
       "    .dataframe tbody tr th:only-of-type {\n",
       "        vertical-align: middle;\n",
       "    }\n",
       "\n",
       "    .dataframe tbody tr th {\n",
       "        vertical-align: top;\n",
       "    }\n",
       "\n",
       "    .dataframe thead th {\n",
       "        text-align: right;\n",
       "    }\n",
       "</style>\n",
       "<table border=\"1\" class=\"dataframe\">\n",
       "  <thead>\n",
       "    <tr style=\"text-align: right;\">\n",
       "      <th></th>\n",
       "      <th>Unnamed: 0</th>\n",
       "      <th>id</th>\n",
       "      <th>text</th>\n",
       "      <th>verdict</th>\n",
       "      <th>comment</th>\n",
       "      <th>score</th>\n",
       "    </tr>\n",
       "  </thead>\n",
       "  <tbody>\n",
       "    <tr>\n",
       "      <th>0</th>\n",
       "      <td>0</td>\n",
       "      <td>4pcrle</td>\n",
       "      <td>i turned 30 on monday. i don't have a problem ...</td>\n",
       "      <td>nta</td>\n",
       "      <td>i think you know your nta, it seems like you j...</td>\n",
       "      <td>15</td>\n",
       "    </tr>\n",
       "  </tbody>\n",
       "</table>\n",
       "</div>"
      ],
      "text/plain": [
       "   Unnamed: 0      id                                               text  \\\n",
       "0           0  4pcrle  i turned 30 on monday. i don't have a problem ...   \n",
       "\n",
       "  verdict                                            comment  score  \n",
       "0     nta  i think you know your nta, it seems like you j...     15  "
      ]
     },
     "execution_count": 73,
     "metadata": {},
     "output_type": "execute_result"
    }
   ],
   "source": [
    "withoutTitleDfLessThan1024singleComment.head(1)"
   ]
  },
  {
   "cell_type": "code",
   "execution_count": 74,
   "metadata": {},
   "outputs": [],
   "source": [
    "withTitleDfLessThan512doubleComment = dict(comment=withTitleDfLessThan512.filter(regex=\"^comment[1|2]$\").columns)\n",
    "withTitleDfLessThan512doubleComment = pd.lreshape(withTitleDfLessThan512, withTitleDfLessThan512doubleComment)\n",
    "withTitleDfLessThan512doubleComment= withTitleDfLessThan512doubleComment.drop(['titleAndTextLength', 'comment1Length', 'comment2Length'], axis=1).copy().rename(columns={\"titleAndText\": \"text\"})\n",
    "\n",
    "withTitleDfLessThan1024doubleComment = dict(comment=withTitleDfLessThan1024.filter(regex=\"^comment[1|2]$\").columns)\n",
    "withTitleDfLessThan1024doubleComment = pd.lreshape(withTitleDfLessThan1024, withTitleDfLessThan1024doubleComment)\n",
    "withTitleDfLessThan1024doubleComment= withTitleDfLessThan1024doubleComment.drop(['titleAndTextLength', 'comment1Length', 'comment2Length'], axis=1).copy().rename(columns={\"titleAndText\": \"text\"})"
   ]
  },
  {
   "cell_type": "code",
   "execution_count": 75,
   "metadata": {},
   "outputs": [],
   "source": [
    "withoutTitleDfLessThan512doubleComment = dict(comment=withoutTitleDfLessThan512.filter(regex=\"^comment[1|2]$\").columns)\n",
    "withoutTitleDfLessThan512doubleComment = pd.lreshape(withoutTitleDfLessThan512, withoutTitleDfLessThan512doubleComment)\n",
    "withoutTitleDfLessThan512doubleComment= withoutTitleDfLessThan512doubleComment.drop(['textLength', 'comment1Length', 'comment2Length'], axis=1).copy()\n",
    "\n",
    "withoutTitleDfLessThan1024doubleComment = dict(comment=withoutTitleDfLessThan1024.filter(regex=\"^comment[1|2]$\").columns)\n",
    "withoutTitleDfLessThan1024doubleComment = pd.lreshape(withoutTitleDfLessThan1024, withoutTitleDfLessThan1024doubleComment)\n",
    "withoutTitleDfLessThan1024doubleComment= withoutTitleDfLessThan1024doubleComment.drop(['textLength', 'comment1Length', 'comment2Length'], axis=1).copy()"
   ]
  },
  {
   "cell_type": "code",
   "execution_count": 76,
   "metadata": {},
   "outputs": [],
   "source": [
    "withTitleDfLessThan512singleComment.to_csv(\"subset_with_title_less_than_512_single_comment.csv\")  \n",
    "withTitleDfLessThan1024singleComment.to_csv(\"subset_with_title_less_than_1024_single_comment.csv\")  \n",
    "withoutTitleDfLessThan512singleComment.to_csv(\"subset_without_title_less_than_512_single_comment.csv\")  \n",
    "withoutTitleDfLessThan1024singleComment.to_csv(\"subset_without_title_less_than_1024_single_comment.csv\") \n",
    "withTitleDfLessThan512doubleComment.to_csv(\"subset_with_title_less_than_512_double_comment.csv\")  \n",
    "withTitleDfLessThan1024doubleComment.to_csv(\"subset_with_title_less_than_1024_double_comment.csv\")  \n",
    "withoutTitleDfLessThan512doubleComment.to_csv(\"subset_without_title_less_than_512_double_comment.csv\")  \n",
    "withoutTitleDfLessThan1024doubleComment.to_csv(\"subset_without_title_less_than_1024_double_comment.csv\")  "
   ]
  },
  {
   "cell_type": "code",
   "execution_count": 77,
   "metadata": {},
   "outputs": [
    {
     "name": "stdout",
     "output_type": "stream",
     "text": [
      "181283\n",
      "269163\n",
      "186567\n",
      "269260\n",
      "362566\n",
      "538326\n",
      "373134\n",
      "538520\n"
     ]
    }
   ],
   "source": [
    "print(len(withTitleDfLessThan512singleComment))\n",
    "print(len(withTitleDfLessThan1024singleComment))\n",
    "print(len(withoutTitleDfLessThan512singleComment))\n",
    "print(len(withoutTitleDfLessThan1024singleComment))\n",
    "print(len(withTitleDfLessThan512doubleComment))\n",
    "print(len(withTitleDfLessThan1024doubleComment))\n",
    "print(len(withoutTitleDfLessThan512doubleComment))\n",
    "print(len(withoutTitleDfLessThan1024doubleComment))"
   ]
  }
 ],
 "metadata": {
  "kernelspec": {
   "display_name": "Python 3.9.6 64-bit",
   "language": "python",
   "name": "python3"
  },
  "language_info": {
   "codemirror_mode": {
    "name": "ipython",
    "version": 3
   },
   "file_extension": ".py",
   "mimetype": "text/x-python",
   "name": "python",
   "nbconvert_exporter": "python",
   "pygments_lexer": "ipython3",
   "version": "3.9.6"
  },
  "orig_nbformat": 4,
  "vscode": {
   "interpreter": {
    "hash": "31f2aee4e71d21fbe5cf8b01ff0e069b9275f58929596ceb00d14d90e3e16cd6"
   }
  }
 },
 "nbformat": 4,
 "nbformat_minor": 2
}
