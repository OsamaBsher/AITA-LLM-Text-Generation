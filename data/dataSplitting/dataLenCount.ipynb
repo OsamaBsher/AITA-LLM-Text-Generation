{
 "cells": [
  {
   "cell_type": "code",
   "execution_count": 1,
   "metadata": {},
   "outputs": [
    {
     "name": "stderr",
     "output_type": "stream",
     "text": [
      "[nltk_data] Downloading package punkt to /Users/osama/nltk_data...\n",
      "[nltk_data]   Package punkt is already up-to-date!\n"
     ]
    },
    {
     "data": {
      "text/plain": [
       "True"
      ]
     },
     "execution_count": 1,
     "metadata": {},
     "output_type": "execute_result"
    }
   ],
   "source": [
    "import csv\n",
    "import nltk\n",
    "import pandas as pd\n",
    "import re\n",
    "\n",
    "from nltk.tokenize import word_tokenize\n",
    "from tqdm import tqdm\n",
    "\n",
    "nltk.download('punkt')"
   ]
  },
  {
   "cell_type": "code",
   "execution_count": 4,
   "metadata": {},
   "outputs": [],
   "source": [
    "# Read file\n",
    "df = pd.read_csv('/Users/osama/Documents/finalNlu/data/dataCleaning/cleaned_dataset.csv')\n",
    "\n",
    "# Prepare write file\n",
    "# file = open('subset_less_than_512_unbalanced_with_title.csv',\"w\",encoding=\"utf-8\", newline=\"\") \n",
    "# writer = csv.writer(file, quoting=csv.QUOTE_ALL)\n",
    "# writer.writerow([\"id\", \"title\", \"text\", \"verdict\", \"comment\", \"score\"])"
   ]
  },
  {
   "cell_type": "code",
   "execution_count": 6,
   "metadata": {},
   "outputs": [],
   "source": [
    "df['title'] = df['title'].apply(lambda x: x.strip()) \n",
    "df['text'] = df['text'].apply(lambda x: x.strip()) \n",
    "df['titleAndText'] =  df['title'] + \" \" + df['text']\n"
   ]
  },
  {
   "cell_type": "code",
   "execution_count": 7,
   "metadata": {},
   "outputs": [],
   "source": [
    "df['titleAndTextLength'] = df['titleAndText'].apply(lambda x: len(word_tokenize(x)))\n",
    "df['textLength'] = df['text'].apply(lambda x: len(word_tokenize(x)))"
   ]
  },
  {
   "cell_type": "code",
   "execution_count": 9,
   "metadata": {},
   "outputs": [],
   "source": [
    "df['comment1Length'] = df['comment1'].apply(lambda x: len(word_tokenize(x)))\n",
    "df['comment2Length'] = df['comment2'].apply(lambda x: len(word_tokenize(x)))"
   ]
  },
  {
   "cell_type": "code",
   "execution_count": 11,
   "metadata": {},
   "outputs": [
    {
     "data": {
      "text/plain": [
       "count    270709.000000\n",
       "mean         60.746806\n",
       "std          52.982319\n",
       "min           5.000000\n",
       "25%          28.000000\n",
       "50%          47.000000\n",
       "75%          77.000000\n",
       "max        1325.000000\n",
       "Name: comment1Length, dtype: float64"
      ]
     },
     "execution_count": 11,
     "metadata": {},
     "output_type": "execute_result"
    }
   ],
   "source": [
    "df['comment1Length'].describe()"
   ]
  },
  {
   "cell_type": "code",
   "execution_count": 12,
   "metadata": {},
   "outputs": [
    {
     "data": {
      "text/plain": [
       "count    270709.000000\n",
       "mean         63.074556\n",
       "std          55.645120\n",
       "min           5.000000\n",
       "25%          28.000000\n",
       "50%          48.000000\n",
       "75%          80.000000\n",
       "max        1482.000000\n",
       "Name: comment2Length, dtype: float64"
      ]
     },
     "execution_count": 12,
     "metadata": {},
     "output_type": "execute_result"
    }
   ],
   "source": [
    "df['comment2Length'].describe()"
   ]
  },
  {
   "cell_type": "code",
   "execution_count": 10,
   "metadata": {},
   "outputs": [
    {
     "data": {
      "text/html": [
       "<div>\n",
       "<style scoped>\n",
       "    .dataframe tbody tr th:only-of-type {\n",
       "        vertical-align: middle;\n",
       "    }\n",
       "\n",
       "    .dataframe tbody tr th {\n",
       "        vertical-align: top;\n",
       "    }\n",
       "\n",
       "    .dataframe thead th {\n",
       "        text-align: right;\n",
       "    }\n",
       "</style>\n",
       "<table border=\"1\" class=\"dataframe\">\n",
       "  <thead>\n",
       "    <tr style=\"text-align: right;\">\n",
       "      <th></th>\n",
       "      <th>id</th>\n",
       "      <th>title</th>\n",
       "      <th>text</th>\n",
       "      <th>verdict</th>\n",
       "      <th>comment1</th>\n",
       "      <th>comment2</th>\n",
       "      <th>score</th>\n",
       "      <th>titleAndText</th>\n",
       "      <th>titleAndTextLength</th>\n",
       "      <th>textLength</th>\n",
       "      <th>comment1Length</th>\n",
       "      <th>comment2Length</th>\n",
       "    </tr>\n",
       "  </thead>\n",
       "  <tbody>\n",
       "    <tr>\n",
       "      <th>0</th>\n",
       "      <td>4pcrle</td>\n",
       "      <td>aita for wanting to celebrate my birthday</td>\n",
       "      <td>i turned 30 on monday. i don't have a problem ...</td>\n",
       "      <td>nta</td>\n",
       "      <td>i think you know your nta, it seems like you j...</td>\n",
       "      <td>definitely nta. i suffer from depression and a...</td>\n",
       "      <td>15</td>\n",
       "      <td>aita for wanting to celebrate my birthday i tu...</td>\n",
       "      <td>475</td>\n",
       "      <td>468</td>\n",
       "      <td>194</td>\n",
       "      <td>42</td>\n",
       "    </tr>\n",
       "  </tbody>\n",
       "</table>\n",
       "</div>"
      ],
      "text/plain": [
       "       id                                      title  \\\n",
       "0  4pcrle  aita for wanting to celebrate my birthday   \n",
       "\n",
       "                                                text verdict  \\\n",
       "0  i turned 30 on monday. i don't have a problem ...     nta   \n",
       "\n",
       "                                            comment1  \\\n",
       "0  i think you know your nta, it seems like you j...   \n",
       "\n",
       "                                            comment2  score  \\\n",
       "0  definitely nta. i suffer from depression and a...     15   \n",
       "\n",
       "                                        titleAndText  titleAndTextLength  \\\n",
       "0  aita for wanting to celebrate my birthday i tu...                 475   \n",
       "\n",
       "   textLength  comment1Length  comment2Length  \n",
       "0         468             194              42  "
      ]
     },
     "execution_count": 10,
     "metadata": {},
     "output_type": "execute_result"
    }
   ],
   "source": [
    "df.head(1)"
   ]
  },
  {
   "cell_type": "code",
   "execution_count": 13,
   "metadata": {},
   "outputs": [],
   "source": [
    "df.to_csv(\"dataset_with_length_of_fields.csv\")  "
   ]
  }
 ],
 "metadata": {
  "kernelspec": {
   "display_name": "Python 3.9.6 64-bit",
   "language": "python",
   "name": "python3"
  },
  "language_info": {
   "codemirror_mode": {
    "name": "ipython",
    "version": 3
   },
   "file_extension": ".py",
   "mimetype": "text/x-python",
   "name": "python",
   "nbconvert_exporter": "python",
   "pygments_lexer": "ipython3",
   "version": "3.9.6"
  },
  "orig_nbformat": 4,
  "vscode": {
   "interpreter": {
    "hash": "31f2aee4e71d21fbe5cf8b01ff0e069b9275f58929596ceb00d14d90e3e16cd6"
   }
  }
 },
 "nbformat": 4,
 "nbformat_minor": 2
}
