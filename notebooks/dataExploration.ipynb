{
 "cells": [
  {
   "cell_type": "code",
   "execution_count": 49,
   "metadata": {},
   "outputs": [],
   "source": [
    "import pandas as pd\n",
    "from matplotlib import pyplot as plt\n",
    "from collections import Counter"
   ]
  },
  {
   "cell_type": "markdown",
   "metadata": {},
   "source": [
    "Pushshift scraping"
   ]
  },
  {
   "cell_type": "code",
   "execution_count": 6,
   "metadata": {},
   "outputs": [],
   "source": [
    "pushshift_scraper_df = pd.read_csv(\"/Users/osama/Documents/finalNlu/data/pushshiftScraping/posts_ids_and_scores.csv\")"
   ]
  },
  {
   "cell_type": "code",
   "execution_count": 7,
   "metadata": {},
   "outputs": [
    {
     "data": {
      "text/html": [
       "<div>\n",
       "<style scoped>\n",
       "    .dataframe tbody tr th:only-of-type {\n",
       "        vertical-align: middle;\n",
       "    }\n",
       "\n",
       "    .dataframe tbody tr th {\n",
       "        vertical-align: top;\n",
       "    }\n",
       "\n",
       "    .dataframe thead th {\n",
       "        text-align: right;\n",
       "    }\n",
       "</style>\n",
       "<table border=\"1\" class=\"dataframe\">\n",
       "  <thead>\n",
       "    <tr style=\"text-align: right;\">\n",
       "      <th></th>\n",
       "      <th>id</th>\n",
       "      <th>timestamp</th>\n",
       "      <th>score</th>\n",
       "    </tr>\n",
       "  </thead>\n",
       "  <tbody>\n",
       "    <tr>\n",
       "      <th>0</th>\n",
       "      <td>1fy0bx</td>\n",
       "      <td>1370724175</td>\n",
       "      <td>2</td>\n",
       "    </tr>\n",
       "  </tbody>\n",
       "</table>\n",
       "</div>"
      ],
      "text/plain": [
       "       id   timestamp  score\n",
       "0  1fy0bx  1370724175      2"
      ]
     },
     "execution_count": 7,
     "metadata": {},
     "output_type": "execute_result"
    }
   ],
   "source": [
    "pushshift_scraper_df.head(1)"
   ]
  },
  {
   "cell_type": "code",
   "execution_count": 8,
   "metadata": {},
   "outputs": [
    {
     "data": {
      "text/plain": [
       "1605213"
      ]
     },
     "execution_count": 8,
     "metadata": {},
     "output_type": "execute_result"
    }
   ],
   "source": [
    "len(pushshift_scraper_df)"
   ]
  },
  {
   "cell_type": "markdown",
   "metadata": {},
   "source": [
    "Praw scraping (atleast 2 comments for post)"
   ]
  },
  {
   "cell_type": "code",
   "execution_count": 10,
   "metadata": {},
   "outputs": [],
   "source": [
    "praw_scraper_df = pd.read_csv(\"/Users/osama/Documents/finalNlu/data/mergeScrapedData/full_dataset.csv\")"
   ]
  },
  {
   "cell_type": "code",
   "execution_count": 19,
   "metadata": {},
   "outputs": [
    {
     "data": {
      "text/plain": [
       "Not the A-hole       299888\n",
       "Asshole               88596\n",
       "No A-holes here       39962\n",
       "Everyone Sucks        24055\n",
       "Not enough info        9740\n",
       "                      ...  \n",
       "Move on                   1\n",
       "Lesser Asshole            1\n",
       "META Asshole              1\n",
       "**NEW** META              1\n",
       "Justified Asshole         1\n",
       "Name: verdict, Length: 184, dtype: int64"
      ]
     },
     "execution_count": 19,
     "metadata": {},
     "output_type": "execute_result"
    }
   ],
   "source": [
    "praw_scraper_df['verdict'].value_counts()"
   ]
  },
  {
   "cell_type": "code",
   "execution_count": 11,
   "metadata": {},
   "outputs": [
    {
     "data": {
      "text/html": [
       "<div>\n",
       "<style scoped>\n",
       "    .dataframe tbody tr th:only-of-type {\n",
       "        vertical-align: middle;\n",
       "    }\n",
       "\n",
       "    .dataframe tbody tr th {\n",
       "        vertical-align: top;\n",
       "    }\n",
       "\n",
       "    .dataframe thead th {\n",
       "        text-align: right;\n",
       "    }\n",
       "</style>\n",
       "<table border=\"1\" class=\"dataframe\">\n",
       "  <thead>\n",
       "    <tr style=\"text-align: right;\">\n",
       "      <th></th>\n",
       "      <th>id</th>\n",
       "      <th>title</th>\n",
       "      <th>text</th>\n",
       "      <th>edited</th>\n",
       "      <th>verdict</th>\n",
       "      <th>comment1</th>\n",
       "      <th>comment2</th>\n",
       "      <th>comment3</th>\n",
       "      <th>comment4</th>\n",
       "      <th>comment5</th>\n",
       "      <th>comment6</th>\n",
       "      <th>comment7</th>\n",
       "      <th>comment8</th>\n",
       "      <th>comment9</th>\n",
       "      <th>comment10</th>\n",
       "      <th>score</th>\n",
       "      <th>url</th>\n",
       "      <th>time_created</th>\n",
       "    </tr>\n",
       "  </thead>\n",
       "  <tbody>\n",
       "    <tr>\n",
       "      <th>0</th>\n",
       "      <td>4pcrle</td>\n",
       "      <td>AITA for wanting to celebrate my birthday</td>\n",
       "      <td>I turned 30 on Monday. I don't have a problem ...</td>\n",
       "      <td>False</td>\n",
       "      <td>not the a-hole</td>\n",
       "      <td>I think you know your NTA, it seems like you j...</td>\n",
       "      <td>Definitely NTA. I suffer from depression and a...</td>\n",
       "      <td>The person who commented above is correct. You...</td>\n",
       "      <td>NaN</td>\n",
       "      <td>NaN</td>\n",
       "      <td>NaN</td>\n",
       "      <td>NaN</td>\n",
       "      <td>NaN</td>\n",
       "      <td>NaN</td>\n",
       "      <td>NaN</td>\n",
       "      <td>15.0</td>\n",
       "      <td>https://www.reddit.com/r/AmItheAsshole/comment...</td>\n",
       "      <td>1.466626e+09</td>\n",
       "    </tr>\n",
       "  </tbody>\n",
       "</table>\n",
       "</div>"
      ],
      "text/plain": [
       "       id                                      title  \\\n",
       "0  4pcrle  AITA for wanting to celebrate my birthday   \n",
       "\n",
       "                                                text edited         verdict  \\\n",
       "0  I turned 30 on Monday. I don't have a problem ...  False  not the a-hole   \n",
       "\n",
       "                                            comment1  \\\n",
       "0  I think you know your NTA, it seems like you j...   \n",
       "\n",
       "                                            comment2  \\\n",
       "0  Definitely NTA. I suffer from depression and a...   \n",
       "\n",
       "                                            comment3 comment4 comment5  \\\n",
       "0  The person who commented above is correct. You...      NaN      NaN   \n",
       "\n",
       "  comment6 comment7 comment8 comment9 comment10  score  \\\n",
       "0      NaN      NaN      NaN      NaN       NaN   15.0   \n",
       "\n",
       "                                                 url  time_created  \n",
       "0  https://www.reddit.com/r/AmItheAsshole/comment...  1.466626e+09  "
      ]
     },
     "execution_count": 11,
     "metadata": {},
     "output_type": "execute_result"
    }
   ],
   "source": [
    "praw_scraper_df.head(1)"
   ]
  },
  {
   "cell_type": "code",
   "execution_count": 12,
   "metadata": {},
   "outputs": [
    {
     "data": {
      "text/plain": [
       "817660"
      ]
     },
     "execution_count": 12,
     "metadata": {},
     "output_type": "execute_result"
    }
   ],
   "source": [
    "len(praw_scraper_df)"
   ]
  },
  {
   "cell_type": "markdown",
   "metadata": {},
   "source": [
    "Processed dataset (removed empty posts)"
   ]
  },
  {
   "cell_type": "code",
   "execution_count": 24,
   "metadata": {},
   "outputs": [],
   "source": [
    "pre_processed_df = pd.read_csv(\"/Users/osama/Documents/finalNlu/data/dataPreProcessing/pre_processed_dataset.csv\")"
   ]
  },
  {
   "cell_type": "code",
   "execution_count": 25,
   "metadata": {},
   "outputs": [
    {
     "data": {
      "text/plain": [
       "Not the A-hole     224531\n",
       "Asshole             60629\n",
       "No A-holes here     27747\n",
       "Everyone Sucks      16089\n",
       "not the a-hole        289\n",
       "asshole                55\n",
       "everyone sucks          9\n",
       "Name: verdict, dtype: int64"
      ]
     },
     "execution_count": 25,
     "metadata": {},
     "output_type": "execute_result"
    }
   ],
   "source": [
    "pre_processed_df['verdict'].value_counts()"
   ]
  },
  {
   "cell_type": "code",
   "execution_count": 26,
   "metadata": {},
   "outputs": [
    {
     "data": {
      "text/html": [
       "<div>\n",
       "<style scoped>\n",
       "    .dataframe tbody tr th:only-of-type {\n",
       "        vertical-align: middle;\n",
       "    }\n",
       "\n",
       "    .dataframe tbody tr th {\n",
       "        vertical-align: top;\n",
       "    }\n",
       "\n",
       "    .dataframe thead th {\n",
       "        text-align: right;\n",
       "    }\n",
       "</style>\n",
       "<table border=\"1\" class=\"dataframe\">\n",
       "  <thead>\n",
       "    <tr style=\"text-align: right;\">\n",
       "      <th></th>\n",
       "      <th>id</th>\n",
       "      <th>title</th>\n",
       "      <th>text</th>\n",
       "      <th>edited</th>\n",
       "      <th>verdict</th>\n",
       "      <th>comment1</th>\n",
       "      <th>comment2</th>\n",
       "      <th>comment3</th>\n",
       "      <th>comment4</th>\n",
       "      <th>comment5</th>\n",
       "      <th>comment6</th>\n",
       "      <th>comment7</th>\n",
       "      <th>comment8</th>\n",
       "      <th>comment9</th>\n",
       "      <th>comment10</th>\n",
       "      <th>score</th>\n",
       "      <th>url</th>\n",
       "      <th>time_created</th>\n",
       "    </tr>\n",
       "  </thead>\n",
       "  <tbody>\n",
       "    <tr>\n",
       "      <th>0</th>\n",
       "      <td>4pcrle</td>\n",
       "      <td>AITA for wanting to celebrate my birthday</td>\n",
       "      <td>I turned 30 on Monday. I don't have a problem ...</td>\n",
       "      <td>False</td>\n",
       "      <td>not the a-hole</td>\n",
       "      <td>I think you know your NTA, it seems like you j...</td>\n",
       "      <td>Definitely NTA. I suffer from depression and a...</td>\n",
       "      <td>The person who commented above is correct. You...</td>\n",
       "      <td>NaN</td>\n",
       "      <td>NaN</td>\n",
       "      <td>NaN</td>\n",
       "      <td>NaN</td>\n",
       "      <td>NaN</td>\n",
       "      <td>NaN</td>\n",
       "      <td>NaN</td>\n",
       "      <td>15</td>\n",
       "      <td>https://www.reddit.com/r/AmItheAsshole/comment...</td>\n",
       "      <td>1.466626e+09</td>\n",
       "    </tr>\n",
       "  </tbody>\n",
       "</table>\n",
       "</div>"
      ],
      "text/plain": [
       "       id                                      title  \\\n",
       "0  4pcrle  AITA for wanting to celebrate my birthday   \n",
       "\n",
       "                                                text edited         verdict  \\\n",
       "0  I turned 30 on Monday. I don't have a problem ...  False  not the a-hole   \n",
       "\n",
       "                                            comment1  \\\n",
       "0  I think you know your NTA, it seems like you j...   \n",
       "\n",
       "                                            comment2  \\\n",
       "0  Definitely NTA. I suffer from depression and a...   \n",
       "\n",
       "                                            comment3 comment4 comment5  \\\n",
       "0  The person who commented above is correct. You...      NaN      NaN   \n",
       "\n",
       "  comment6 comment7 comment8 comment9 comment10  score  \\\n",
       "0      NaN      NaN      NaN      NaN       NaN     15   \n",
       "\n",
       "                                                 url  time_created  \n",
       "0  https://www.reddit.com/r/AmItheAsshole/comment...  1.466626e+09  "
      ]
     },
     "execution_count": 26,
     "metadata": {},
     "output_type": "execute_result"
    }
   ],
   "source": [
    "pre_processed_df.head(1)"
   ]
  },
  {
   "cell_type": "code",
   "execution_count": 27,
   "metadata": {},
   "outputs": [
    {
     "data": {
      "text/plain": [
       "329349"
      ]
     },
     "execution_count": 27,
     "metadata": {},
     "output_type": "execute_result"
    }
   ],
   "source": [
    "len(pre_processed_df)"
   ]
  },
  {
   "cell_type": "markdown",
   "metadata": {},
   "source": [
    "Data cleaning (remove newline characters, remove extra columns, remove edit and update sections...)"
   ]
  },
  {
   "cell_type": "code",
   "execution_count": 28,
   "metadata": {},
   "outputs": [],
   "source": [
    "cleaned_df = pd.read_csv(\"/Users/osama/Documents/finalNlu/data/dataCleaning/cleaned_dataset.csv\")"
   ]
  },
  {
   "cell_type": "code",
   "execution_count": 35,
   "metadata": {},
   "outputs": [
    {
     "data": {
      "text/html": [
       "<div>\n",
       "<style scoped>\n",
       "    .dataframe tbody tr th:only-of-type {\n",
       "        vertical-align: middle;\n",
       "    }\n",
       "\n",
       "    .dataframe tbody tr th {\n",
       "        vertical-align: top;\n",
       "    }\n",
       "\n",
       "    .dataframe thead th {\n",
       "        text-align: right;\n",
       "    }\n",
       "</style>\n",
       "<table border=\"1\" class=\"dataframe\">\n",
       "  <thead>\n",
       "    <tr style=\"text-align: right;\">\n",
       "      <th></th>\n",
       "      <th>id</th>\n",
       "      <th>title</th>\n",
       "      <th>text</th>\n",
       "      <th>verdict</th>\n",
       "      <th>comment1</th>\n",
       "      <th>comment2</th>\n",
       "      <th>score</th>\n",
       "    </tr>\n",
       "  </thead>\n",
       "  <tbody>\n",
       "    <tr>\n",
       "      <th>0</th>\n",
       "      <td>4pcrle</td>\n",
       "      <td>aita for wanting to celebrate my birthday</td>\n",
       "      <td>i turned 30 on monday. i don't have a problem ...</td>\n",
       "      <td>nta</td>\n",
       "      <td>i think you know your nta, it seems like you j...</td>\n",
       "      <td>definitely nta. i suffer from depression and a...</td>\n",
       "      <td>15</td>\n",
       "    </tr>\n",
       "  </tbody>\n",
       "</table>\n",
       "</div>"
      ],
      "text/plain": [
       "       id                                      title  \\\n",
       "0  4pcrle  aita for wanting to celebrate my birthday   \n",
       "\n",
       "                                                text verdict  \\\n",
       "0  i turned 30 on monday. i don't have a problem ...     nta   \n",
       "\n",
       "                                            comment1  \\\n",
       "0  i think you know your nta, it seems like you j...   \n",
       "\n",
       "                                            comment2  score  \n",
       "0  definitely nta. i suffer from depression and a...     15  "
      ]
     },
     "execution_count": 35,
     "metadata": {},
     "output_type": "execute_result"
    }
   ],
   "source": [
    "cleaned_df.head(1)"
   ]
  },
  {
   "cell_type": "code",
   "execution_count": 36,
   "metadata": {},
   "outputs": [
    {
     "data": {
      "text/plain": [
       "270709"
      ]
     },
     "execution_count": 36,
     "metadata": {},
     "output_type": "execute_result"
    }
   ],
   "source": [
    "len(cleaned_df)"
   ]
  },
  {
   "cell_type": "code",
   "execution_count": 33,
   "metadata": {},
   "outputs": [
    {
     "data": {
      "text/html": [
       "<div>\n",
       "<style scoped>\n",
       "    .dataframe tbody tr th:only-of-type {\n",
       "        vertical-align: middle;\n",
       "    }\n",
       "\n",
       "    .dataframe tbody tr th {\n",
       "        vertical-align: top;\n",
       "    }\n",
       "\n",
       "    .dataframe thead th {\n",
       "        text-align: right;\n",
       "    }\n",
       "</style>\n",
       "<table border=\"1\" class=\"dataframe\">\n",
       "  <thead>\n",
       "    <tr style=\"text-align: right;\">\n",
       "      <th></th>\n",
       "      <th>Verdict</th>\n",
       "      <th>Frequency</th>\n",
       "    </tr>\n",
       "  </thead>\n",
       "  <tbody>\n",
       "    <tr>\n",
       "      <th>0</th>\n",
       "      <td>Nta</td>\n",
       "      <td>203079</td>\n",
       "    </tr>\n",
       "    <tr>\n",
       "      <th>1</th>\n",
       "      <td>Yta</td>\n",
       "      <td>47408</td>\n",
       "    </tr>\n",
       "    <tr>\n",
       "      <th>2</th>\n",
       "      <td>Nah</td>\n",
       "      <td>13342</td>\n",
       "    </tr>\n",
       "    <tr>\n",
       "      <th>3</th>\n",
       "      <td>Esh</td>\n",
       "      <td>6880</td>\n",
       "    </tr>\n",
       "  </tbody>\n",
       "</table>\n",
       "</div>"
      ],
      "text/plain": [
       "  Verdict  Frequency\n",
       "0     Nta     203079\n",
       "1     Yta      47408\n",
       "2     Nah      13342\n",
       "3     Esh       6880"
      ]
     },
     "execution_count": 33,
     "metadata": {},
     "output_type": "execute_result"
    }
   ],
   "source": [
    "counts = cleaned_df['verdict'].value_counts()\n",
    "verdict = counts.index.to_list()\n",
    "freq = counts.to_list()\n",
    "freq_df = pd.DataFrame(list(zip(verdict, freq)), \n",
    "               columns =['Verdict', 'Frequency']) \n",
    "freq_df['Verdict'] = freq_df['Verdict'].str.title()\n",
    "freq_df.head()"
   ]
  },
  {
   "cell_type": "code",
   "execution_count": 34,
   "metadata": {},
   "outputs": [
    {
     "data": {
      "text/plain": [
       "([<matplotlib.axis.XTick at 0x6886f4520>,\n",
       "  <matplotlib.axis.XTick at 0x6886f44f0>,\n",
       "  <matplotlib.axis.XTick at 0x68871a040>,\n",
       "  <matplotlib.axis.XTick at 0x68879e9a0>],\n",
       " [Text(0, 0, 'NTA'), Text(1, 0, 'YTA'), Text(2, 0, 'NAH'), Text(3, 0, 'ESH')])"
      ]
     },
     "execution_count": 34,
     "metadata": {},
     "output_type": "execute_result"
    },
    {
     "data": {
      "image/png": "[encoded data removed]",
      "text/plain": [
       "<Figure size 640x480 with 1 Axes>"
      ]
     },
     "metadata": {},
     "output_type": "display_data"
    }
   ],
   "source": [
    "freq_df.plot(kind=\"bar\", title=\"test\")\n",
    "plt.title(\"Frequency of each verdict\")\n",
    "plt.xlabel(\"Verdict\")\n",
    "plt.ylabel(\"Frequency\")\n",
    "plt.xticks(range(4), [\"NTA\", \"YTA\", \"NAH\", \"ESH\"], rotation=0)"
   ]
  },
  {
   "cell_type": "markdown",
   "metadata": {},
   "source": [
    "Combined NTA and NAH, YTA and ESH"
   ]
  },
  {
   "cell_type": "code",
   "execution_count": 41,
   "metadata": {},
   "outputs": [
    {
     "data": {
      "text/html": [
       "<div>\n",
       "<style scoped>\n",
       "    .dataframe tbody tr th:only-of-type {\n",
       "        vertical-align: middle;\n",
       "    }\n",
       "\n",
       "    .dataframe tbody tr th {\n",
       "        vertical-align: top;\n",
       "    }\n",
       "\n",
       "    .dataframe thead th {\n",
       "        text-align: right;\n",
       "    }\n",
       "</style>\n",
       "<table border=\"1\" class=\"dataframe\">\n",
       "  <thead>\n",
       "    <tr style=\"text-align: right;\">\n",
       "      <th></th>\n",
       "      <th>Verdict</th>\n",
       "      <th>Frequency</th>\n",
       "    </tr>\n",
       "  </thead>\n",
       "  <tbody>\n",
       "    <tr>\n",
       "      <th>0</th>\n",
       "      <td>0</td>\n",
       "      <td>216421</td>\n",
       "    </tr>\n",
       "    <tr>\n",
       "      <th>1</th>\n",
       "      <td>1</td>\n",
       "      <td>54288</td>\n",
       "    </tr>\n",
       "  </tbody>\n",
       "</table>\n",
       "</div>"
      ],
      "text/plain": [
       "  Verdict  Frequency\n",
       "0       0     216421\n",
       "1       1      54288"
      ]
     },
     "execution_count": 41,
     "metadata": {},
     "output_type": "execute_result"
    }
   ],
   "source": [
    "counts = cleaned_df['verdict'].value_counts()\n",
    "verdict = [\"0\", \"1\"]\n",
    "freq = [counts['nta'] + counts['nah'], counts['yta'] + counts['esh']] \n",
    "freq_df = pd.DataFrame(list(zip(verdict, freq)), \n",
    "               columns =['Verdict', 'Frequency']) \n",
    "freq_df['Verdict'] = freq_df['Verdict'].str.title()\n",
    "freq_df.head()"
   ]
  },
  {
   "cell_type": "code",
   "execution_count": 42,
   "metadata": {},
   "outputs": [
    {
     "data": {
      "text/plain": [
       "([<matplotlib.axis.XTick at 0x68baae850>,\n",
       "  <matplotlib.axis.XTick at 0x68baae820>],\n",
       " [Text(0, 0, '0'), Text(1, 0, '1')])"
      ]
     },
     "execution_count": 42,
     "metadata": {},
     "output_type": "execute_result"
    },
    {
     "data": {
      "image/png": "[encoded data removed]",
      "text/plain": [
       "<Figure size 640x480 with 1 Axes>"
      ]
     },
     "metadata": {},
     "output_type": "display_data"
    }
   ],
   "source": [
    "freq_df.plot(kind=\"bar\", title=\"test\")\n",
    "plt.title(\"Frequency of each verdict\")\n",
    "plt.xlabel(\"Verdict\")\n",
    "plt.ylabel(\"Frequency\")\n",
    "plt.xticks(range(2), [\"0\", \"1\"], rotation=0)"
   ]
  },
  {
   "cell_type": "code",
   "execution_count": 43,
   "metadata": {},
   "outputs": [
    {
     "data": {
      "text/plain": [
       "count    270709.000000\n",
       "mean        358.469966\n",
       "std         165.335021\n",
       "min           5.000000\n",
       "25%         231.000000\n",
       "50%         343.000000\n",
       "75%         483.000000\n",
       "max        5507.000000\n",
       "Name: totalwords, dtype: float64"
      ]
     },
     "execution_count": 43,
     "metadata": {},
     "output_type": "execute_result"
    }
   ],
   "source": [
    "#find the total number of words in post text\n",
    "cleaned_df['totalwords'] = cleaned_df['text'].str.split().str.len()\n",
    "cleaned_df['totalwords'].describe()"
   ]
  },
  {
   "cell_type": "code",
   "execution_count": 46,
   "metadata": {},
   "outputs": [
    {
     "data": {
      "text/plain": [
       "count    270709.000000\n",
       "mean         11.813630\n",
       "std           4.698614\n",
       "min           1.000000\n",
       "25%           9.000000\n",
       "50%          11.000000\n",
       "75%          14.000000\n",
       "max          64.000000\n",
       "Name: totalwords, dtype: float64"
      ]
     },
     "execution_count": 46,
     "metadata": {},
     "output_type": "execute_result"
    }
   ],
   "source": [
    "#find the total number of words in post title\n",
    "cleaned_df['totalwords'] = cleaned_df['title'].str.split().str.len()\n",
    "cleaned_df['totalwords'].describe()"
   ]
  },
  {
   "cell_type": "code",
   "execution_count": 47,
   "metadata": {},
   "outputs": [
    {
     "data": {
      "text/plain": [
       "count    270709.000000\n",
       "mean         51.400955\n",
       "std          45.343761\n",
       "min           1.000000\n",
       "25%          23.000000\n",
       "50%          39.000000\n",
       "75%          65.000000\n",
       "max        1113.000000\n",
       "Name: totalwords, dtype: float64"
      ]
     },
     "execution_count": 47,
     "metadata": {},
     "output_type": "execute_result"
    }
   ],
   "source": [
    "#find the total number of words in post comment 1\n",
    "cleaned_df['totalwords'] = cleaned_df['comment1'].str.split().str.len()\n",
    "cleaned_df['totalwords'].describe()"
   ]
  },
  {
   "cell_type": "code",
   "execution_count": 48,
   "metadata": {},
   "outputs": [
    {
     "data": {
      "text/plain": [
       "count    270709.000000\n",
       "mean         53.523064\n",
       "std          47.727248\n",
       "min           1.000000\n",
       "25%          23.000000\n",
       "50%          41.000000\n",
       "75%          68.000000\n",
       "max        1254.000000\n",
       "Name: totalwords, dtype: float64"
      ]
     },
     "execution_count": 48,
     "metadata": {},
     "output_type": "execute_result"
    }
   ],
   "source": [
    "#find the total number of words in post comment 2 \n",
    "cleaned_df['totalwords'] = cleaned_df['comment2'].str.split().str.len()\n",
    "cleaned_df['totalwords'].describe()"
   ]
  },
  {
   "cell_type": "code",
   "execution_count": 54,
   "metadata": {},
   "outputs": [
    {
     "data": {
      "text/plain": [
       "[('i', 4105691),\n",
       " ('and', 3425302),\n",
       " ('to', 3176529),\n",
       " ('the', 2699971),\n",
       " ('my', 2144238),\n",
       " ('a', 2059704),\n",
       " ('that', 1282586),\n",
       " ('she', 1239962),\n",
       " ('of', 1221983),\n",
       " ('was', 1158379)]"
      ]
     },
     "execution_count": 54,
     "metadata": {},
     "output_type": "execute_result"
    }
   ],
   "source": [
    "# Count most frequent 100 words from sentences in all verdicts\n",
    "Counter(\" \".join(cleaned_df[\"text\"]).split()).most_common(10)"
   ]
  },
  {
   "cell_type": "code",
   "execution_count": 55,
   "metadata": {},
   "outputs": [
    {
     "data": {
      "text/plain": [
       "[('i', 762692),\n",
       " ('and', 630611),\n",
       " ('to', 570518),\n",
       " ('the', 509273),\n",
       " ('a', 391466),\n",
       " ('my', 351338),\n",
       " ('she', 256803),\n",
       " ('that', 244554),\n",
       " ('of', 229193),\n",
       " ('was', 225149)]"
      ]
     },
     "execution_count": 55,
     "metadata": {},
     "output_type": "execute_result"
    }
   ],
   "source": [
    "#Count most frequent 100 words from sentences in  Asshole Verdict\n",
    "AssholeFreq = [\"yta\",\"esh\"]\n",
    "df_ass = cleaned_df[cleaned_df['verdict'].isin(AssholeFreq)]\n",
    "Counter(\" \".join(df_ass['text']).split()).most_common(10)"
   ]
  },
  {
   "cell_type": "code",
   "execution_count": 56,
   "metadata": {},
   "outputs": [
    {
     "data": {
      "text/plain": [
       "[('i', 762692),\n",
       " ('and', 630611),\n",
       " ('to', 570518),\n",
       " ('the', 509273),\n",
       " ('a', 391466),\n",
       " ('my', 351338),\n",
       " ('she', 256803),\n",
       " ('that', 244554),\n",
       " ('of', 229193),\n",
       " ('was', 225149)]"
      ]
     },
     "execution_count": 56,
     "metadata": {},
     "output_type": "execute_result"
    }
   ],
   "source": [
    "#Count most frequent 100 words from sentences in not Asshole Verdict\n",
    "NotAssFreq =  [\"nta\",\"nah\"]\n",
    "df_not = cleaned_df[cleaned_df['verdict'].isin(NotAssFreq)]\n",
    "Counter(\" \".join(df_ass['text']).split()).most_common(10)\n"
   ]
  },
  {
   "cell_type": "code",
   "execution_count": 61,
   "metadata": {},
   "outputs": [
    {
     "data": {
      "text/plain": [
       "[('you', 138811),\n",
       " ('to', 119549),\n",
       " ('the', 83864),\n",
       " ('and', 82502),\n",
       " ('a', 76968),\n",
       " ('your', 68442),\n",
       " ('that', 42325),\n",
       " ('of', 42283),\n",
       " ('is', 41408),\n",
       " ('for', 40789)]"
      ]
     },
     "execution_count": 61,
     "metadata": {},
     "output_type": "execute_result"
    }
   ],
   "source": [
    "#Count most frequent 100 words from comments in  Asshole Verdict\n",
    "AssholeFreq = [\"yta\",\"esh\"]\n",
    "df_ass = cleaned_df[cleaned_df['verdict'].isin(AssholeFreq)]\n",
    "Counter(\" \".join(df_ass['comment1']).split()).most_common(10)"
   ]
  },
  {
   "cell_type": "code",
   "execution_count": 62,
   "metadata": {},
   "outputs": [
    {
     "data": {
      "text/plain": [
       "[('to', 391599),\n",
       " ('you', 366938),\n",
       " ('the', 262389),\n",
       " ('and', 261422),\n",
       " ('your', 234779),\n",
       " ('a', 230995),\n",
       " ('is', 144940),\n",
       " ('that', 130753),\n",
       " ('of', 125380),\n",
       " ('for', 124353)]"
      ]
     },
     "execution_count": 62,
     "metadata": {},
     "output_type": "execute_result"
    }
   ],
   "source": [
    "#Count most frequent 100 words from comments in not Asshole Verdict\n",
    "NotAssFreq =  [\"nta\",\"nah\"]\n",
    "df_not = cleaned_df[cleaned_df['verdict'].isin(NotAssFreq)]\n",
    "Counter(\" \".join(df_not['comment1']).split()).most_common(10)"
   ]
  },
  {
   "cell_type": "code",
   "execution_count": 63,
   "metadata": {},
   "outputs": [
    {
     "data": {
      "text/plain": [
       "[('for', 214526),\n",
       " ('my', 196316),\n",
       " ('aita', 181707),\n",
       " ('to', 102755),\n",
       " ('a', 63430),\n",
       " ('not', 56869),\n",
       " ('i', 46509),\n",
       " ('the', 33478),\n",
       " ('wibta', 28618),\n",
       " ('with', 25313)]"
      ]
     },
     "execution_count": 63,
     "metadata": {},
     "output_type": "execute_result"
    }
   ],
   "source": [
    "#Count most frequent 100 words from title in not Asshole Verdict\n",
    "NotAssFreq =  [\"nta\",\"nah\"]\n",
    "df_not = cleaned_df[cleaned_df['verdict'].isin(NotAssFreq)]\n",
    "Counter(\" \".join(df_not['title']).split()).most_common(10)"
   ]
  },
  {
   "cell_type": "code",
   "execution_count": 64,
   "metadata": {},
   "outputs": [
    {
     "data": {
      "text/plain": [
       "[('for', 55234),\n",
       " ('aita', 47224),\n",
       " ('my', 46383),\n",
       " ('to', 23740),\n",
       " ('a', 18866),\n",
       " ('i', 11349),\n",
       " ('not', 9952),\n",
       " ('the', 9600),\n",
       " ('telling', 6533),\n",
       " ('of', 6053)]"
      ]
     },
     "execution_count": 64,
     "metadata": {},
     "output_type": "execute_result"
    }
   ],
   "source": [
    "#Count most frequent 100 words from title in  Asshole Verdict\n",
    "AssholeFreq = [\"yta\",\"esh\"]\n",
    "df_ass = cleaned_df[cleaned_df['verdict'].isin(AssholeFreq)]\n",
    "Counter(\" \".join(df_ass['title']).split()).most_common(10)"
   ]
  }
 ],
 "metadata": {
  "kernelspec": {
   "display_name": "Python 3.9.6 64-bit",
   "language": "python",
   "name": "python3"
  },
  "language_info": {
   "codemirror_mode": {
    "name": "ipython",
    "version": 3
   },
   "file_extension": ".py",
   "mimetype": "text/x-python",
   "name": "python",
   "nbconvert_exporter": "python",
   "pygments_lexer": "ipython3",
   "version": "3.6.8"
  },
  "orig_nbformat": 4,
  "vscode": {
   "interpreter": {
    "hash": "31f2aee4e71d21fbe5cf8b01ff0e069b9275f58929596ceb00d14d90e3e16cd6"
   }
  }
 },
 "nbformat": 4,
 "nbformat_minor": 2
}
