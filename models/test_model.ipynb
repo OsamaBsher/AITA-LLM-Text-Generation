{
 "cells": [
  {
   "cell_type": "code",
   "execution_count": 1,
   "metadata": {},
   "outputs": [
    {
     "name": "stdout",
     "output_type": "stream",
     "text": [
      "Requirement already satisfied: praw in /Users/osama/mambaforge/lib/python3.10/site-packages (7.7.0)\n",
      "Requirement already satisfied: prawcore<3,>=2.1 in /Users/osama/mambaforge/lib/python3.10/site-packages (from praw) (2.3.0)\n",
      "Requirement already satisfied: websocket-client>=0.54.0 in /Users/osama/mambaforge/lib/python3.10/site-packages (from praw) (1.5.1)\n",
      "Requirement already satisfied: update-checker>=0.18 in /Users/osama/mambaforge/lib/python3.10/site-packages (from praw) (0.18.0)\n",
      "Requirement already satisfied: requests<3.0,>=2.6.0 in /Users/osama/mambaforge/lib/python3.10/site-packages (from prawcore<3,>=2.1->praw) (2.28.2)\n",
      "Requirement already satisfied: urllib3<1.27,>=1.21.1 in /Users/osama/mambaforge/lib/python3.10/site-packages (from requests<3.0,>=2.6.0->prawcore<3,>=2.1->praw) (1.26.14)\n",
      "Requirement already satisfied: idna<4,>=2.5 in /Users/osama/mambaforge/lib/python3.10/site-packages (from requests<3.0,>=2.6.0->prawcore<3,>=2.1->praw) (3.4)\n",
      "Requirement already satisfied: certifi>=2017.4.17 in /Users/osama/mambaforge/lib/python3.10/site-packages (from requests<3.0,>=2.6.0->prawcore<3,>=2.1->praw) (2022.12.7)\n",
      "Requirement already satisfied: charset-normalizer<4,>=2 in /Users/osama/mambaforge/lib/python3.10/site-packages (from requests<3.0,>=2.6.0->prawcore<3,>=2.1->praw) (2.1.1)\n",
      "Requirement already satisfied: transformers in /Users/osama/mambaforge/lib/python3.10/site-packages (4.28.1)\n",
      "Requirement already satisfied: huggingface-hub<1.0,>=0.11.0 in /Users/osama/mambaforge/lib/python3.10/site-packages (from transformers) (0.13.4)\n",
      "Requirement already satisfied: pyyaml>=5.1 in /Users/osama/mambaforge/lib/python3.10/site-packages (from transformers) (6.0)\n",
      "Requirement already satisfied: requests in /Users/osama/mambaforge/lib/python3.10/site-packages (from transformers) (2.28.2)\n",
      "Requirement already satisfied: packaging>=20.0 in /Users/osama/mambaforge/lib/python3.10/site-packages (from transformers) (23.1)\n",
      "Requirement already satisfied: regex!=2019.12.17 in /Users/osama/mambaforge/lib/python3.10/site-packages (from transformers) (2023.3.23)\n",
      "Requirement already satisfied: tokenizers!=0.11.3,<0.14,>=0.11.1 in /Users/osama/mambaforge/lib/python3.10/site-packages (from transformers) (0.13.3)\n",
      "Requirement already satisfied: filelock in /Users/osama/mambaforge/lib/python3.10/site-packages (from transformers) (3.12.0)\n",
      "Requirement already satisfied: numpy>=1.17 in /Users/osama/mambaforge/lib/python3.10/site-packages (from transformers) (1.24.3)\n",
      "Requirement already satisfied: tqdm>=4.27 in /Users/osama/mambaforge/lib/python3.10/site-packages (from transformers) (4.64.1)\n",
      "Requirement already satisfied: typing-extensions>=3.7.4.3 in /Users/osama/mambaforge/lib/python3.10/site-packages (from huggingface-hub<1.0,>=0.11.0->transformers) (4.5.0)\n",
      "Requirement already satisfied: idna<4,>=2.5 in /Users/osama/mambaforge/lib/python3.10/site-packages (from requests->transformers) (3.4)\n",
      "Requirement already satisfied: charset-normalizer<4,>=2 in /Users/osama/mambaforge/lib/python3.10/site-packages (from requests->transformers) (2.1.1)\n",
      "Requirement already satisfied: certifi>=2017.4.17 in /Users/osama/mambaforge/lib/python3.10/site-packages (from requests->transformers) (2022.12.7)\n",
      "Requirement already satisfied: urllib3<1.27,>=1.21.1 in /Users/osama/mambaforge/lib/python3.10/site-packages (from requests->transformers) (1.26.14)\n"
     ]
    }
   ],
   "source": [
    "!pip install praw\n",
    "!pip install transformers"
   ]
  },
  {
   "cell_type": "code",
   "execution_count": 2,
   "metadata": {},
   "outputs": [
    {
     "name": "stderr",
     "output_type": "stream",
     "text": [
      "/Users/osama/Library/Python/3.9/lib/python/site-packages/tqdm/auto.py:22: TqdmWarning: IProgress not found. Please update jupyter and ipywidgets. See https://ipywidgets.readthedocs.io/en/stable/user_install.html\n",
      "  from .autonotebook import tqdm as notebook_tqdm\n"
     ]
    }
   ],
   "source": [
    "import praw\n",
    "\n",
    "from transformers import AutoTokenizer, BartTokenizer, BartForConditionalGeneration, T5Tokenizer, T5ForConditionalGeneration"
   ]
  },
  {
   "cell_type": "code",
   "execution_count": 3,
   "metadata": {},
   "outputs": [],
   "source": [
    "ids = {\n",
    "      \"client_id\": \"tzDk97ujk4gMDdATeYUxYg\",\n",
    "      \"client_secret\": \"S8ZLg2dzg4dWxODm6d_sQAKQoRPuBA\",\n",
    "      \"user_agent\": \"aita_scraper_1\"\n",
    "    }\n",
    "\n",
    "client_id = ids[\"client_id\"]\n",
    "client_secret = ids[\"client_secret\"]\n",
    "user_agent = ids[\"user_agent\"]"
   ]
  },
  {
   "cell_type": "code",
   "execution_count": 4,
   "metadata": {},
   "outputs": [],
   "source": [
    "def clean_post(text):\n",
    "    text = text.replace('\\n', ' ').lower()\n",
    "    edit_idx = text.find('edit:')\n",
    "    if edit_idx != -1:\n",
    "        text = text[:edit_idx]\n",
    "    update_idx = text.find('update:')\n",
    "    if update_idx != -1:\n",
    "        text = text[:update_idx]\n",
    "    return text.strip()"
   ]
  },
  {
   "cell_type": "code",
   "execution_count": 5,
   "metadata": {},
   "outputs": [],
   "source": [
    "def runTest(post_url,model_path, model_type = \"bart\", withTitle = False, sequence_length = 1024 ):\n",
    "\n",
    "    reddit = praw.Reddit(client_id=client_id, client_secret=client_secret, user_agent=user_agent)\n",
    "    \n",
    "    try:\n",
    "        post = reddit.submission(url=post_url)\n",
    "        post_title = clean_post(post.title)\n",
    "        post_body = clean_post(post.selftext)\n",
    "\n",
    "        print(\"Post Title:\", post_title)\n",
    "        print()\n",
    "        print(\"Post Body:\", post_body)\n",
    "        print()\n",
    "\n",
    "        AVAILABLE_MODELS = {\n",
    "        \"bart\": \"facebook/bart-base\", \n",
    "        \"t5\": \"google/flan-t5-base\"\n",
    "        }\n",
    "\n",
    "        model_link = AVAILABLE_MODELS[model_type]\n",
    "\n",
    "        print(\"Using settings\")\n",
    "        print(\"model:\", model_type)\n",
    "        print(\"with title:\", withTitle)\n",
    "        print(\"sequence length:\", sequence_length)\n",
    "        print()\n",
    "\n",
    "        print(\"Loading model...\", model_path)\n",
    "        print()\n",
    "\n",
    "        if model_type == \"bart\":\n",
    "            model = BartForConditionalGeneration.from_pretrained(model_path)\n",
    "        else:\n",
    "            model = T5ForConditionalGeneration.from_pretrained(model_path)\n",
    "\n",
    "        tokenizer = AutoTokenizer.from_pretrained(model_link)\n",
    "        \n",
    "        data = post_body\n",
    "\n",
    "        if withTitle:\n",
    "            data = post_title + \" \" + post_body\n",
    "\n",
    "\n",
    "        inputs = tokenizer([data], max_length=sequence_length, return_tensors=\"pt\",  truncation=True)\n",
    "\n",
    "        comments = {}\n",
    "\n",
    "        beams = [2,10]\n",
    "\n",
    "        print(\"Generating comments...\")\n",
    "        print()\n",
    "\n",
    "        if model_type == \"bart\":\n",
    "            for length in [0, 100]:\n",
    "                name = \"greed search comment, comment length - {}\".format(length)\n",
    "                summary_ids = model.generate(inputs[\"input_ids\"], min_length=length, max_length=sequence_length)\n",
    "                comments[name] = tokenizer.batch_decode(summary_ids, skip_special_tokens=True, clean_up_tokenization_spaces=False)[0]\n",
    "                print(name + \":\", comments[name])\n",
    "                print()\n",
    "                for x in beams:\n",
    "                    name = \"search with {} beams comment, comment length - {}\".format(x,length) \n",
    "                    summary_ids = model.generate(inputs[\"input_ids\"], num_beams=x, min_length=length, max_length=sequence_length)\n",
    "                    comments[name] = tokenizer.batch_decode(summary_ids, skip_special_tokens=True, clean_up_tokenization_spaces=False)[0]\n",
    "                    print(name + \":\", comments[name])\n",
    "                    print()\n",
    "        else:\n",
    "            \n",
    "            for length in [0, 100]:\n",
    "                name = \"greed search comment, comment length - {}\".format(length)\n",
    "                summary_ids = model.generate(inputs[\"input_ids\"], min_length=length, max_length=sequence_length, repetition_penalty=1.5, no_repeat_ngram_size=3)\n",
    "                comments[name] = tokenizer.batch_decode(summary_ids, skip_special_tokens=True, clean_up_tokenization_spaces=False)[0]\n",
    "                print(name + \":\", comments[name])\n",
    "                print()\n",
    "                for x in beams:\n",
    "                    name = \"search with {} beams comment, comment length - {}\".format(x,length) \n",
    "                    summary_ids = model.generate(inputs[\"input_ids\"], num_beams=x, min_length=length, max_length=sequence_length, repetition_penalty=1.5, no_repeat_ngram_size=3)\n",
    "                    comments[name] = tokenizer.batch_decode(summary_ids, skip_special_tokens=True, clean_up_tokenization_spaces=False)[0]\n",
    "                    print(name + \":\", comments[name])\n",
    "                    print()\n",
    "\n",
    "        # for key, value in comments.items():\n",
    "        #     print(key + \":\", value)\n",
    "        #     print()\n",
    "\n",
    "    except Exception as e:\n",
    "        print(\"Error:\", e)\n"
   ]
  },
  {
   "cell_type": "code",
   "execution_count": 6,
   "metadata": {},
   "outputs": [
    {
     "name": "stderr",
     "output_type": "stream",
     "text": [
      "Version 7.6.1 of praw is outdated. Version 7.7.0 was released Saturday February 25, 2023.\n"
     ]
    },
    {
     "name": "stdout",
     "output_type": "stream",
     "text": [
      "Post Title: aita for pressuring my so to change her dress before a professional event?\n",
      "\n",
      "Post Body: this morning my so was dressing up for a research symposium she's attending today. the one in which her senior class presented their research took place on monday, but this time around it is the underclassmen who are presenting their research. on monday, the seniors were instructed to dress in business casual, but today there was no explicit dress code for those just attending the event.      given this is still a professional academic event, i expected the norm to still be business casual. my so went with a dress that looked very much [like this](https://i.imgur.com/qtlvgd5.png) but a much brighter yellow, and sleeves that only went to mid-forearm.  i told her that maybe she shouldn't wear this dress and go with something business casual instead, to which she insisted that this was business casual. i replied saying it was casual but not business, and we went back and forth like that a little bit. ultimately it's her call what she wears and i don't typically try to change that, but this was a professional event, and i subjectively didn't think that dress looked appropriate the occasion.  i never was a big fan of this dress to begin with, and called it a grandma dress before, but the reason i had issue with it today wasn't out of personal distaste but for her professional image as these are the people she will be networking with for the rest of her career. at one point i said \"i just don't want you to embarrass yourself\" and her response seemed to indicate that she didn't believe that was my real reason, so i thought she suspected i was just saying this because i personally didn't like the dress.  after that back and forth, i thought about that last point and wanted to clarify that this wasn't about my personal taste. what i said came out something like this: \"i want you to express yourself and it makes me happy when i see you being happy in how you dress, but i only say this because this is a professional event and i want people to take you seriously\". for some context, many of her classmates  in her small cohort and even some faculty had often been dismissive of her inputs, so that was an insecurity she had shared with me before, so i really upset her when i said \"i just want people to take you seriously\" because she essentially heard \"people don't take you seriously\" as if i was trying to change her dress in an attempt to *fix* her image as if it was something needing fixing. i could have been more clear by saying \"people might find that dress a little silly\" or something else that made it clear i was only talking about the dress and not her personally, if that makes sense.  for more context, she is in healthcare, so she's worn scrubs to school almost every day, and she hasn't had many chances to express herself. in the end, she decided to go back and change into her scrubs, which i feel really guilty about.      i don't think she was ta at all, but is this a nah situation, or aita?\n",
      "\n",
      "Using settings\n",
      "model: bart\n",
      "with title: False\n",
      "sequence length: 1024\n",
      "\n",
      "Loading model... /Users/osama/Downloads/finalModels/bart/bart_balanced_subset_without_title_less_than_1024_double_comment\n",
      "\n",
      "Generating comments...\n",
      "\n",
      "greed search comment, comment length - 0: yta. you don’t get to tell her what she can and cannot wear.\n",
      "\n",
      "search with 2 beams comment, comment length - 0: yta. you don’t get to tell her what to wear.\n",
      "\n",
      "search with 10 beams comment, comment length - 0: yta. you don’t get to dictate what she wears. she’s an adult. she can dress how she wants.\n",
      "\n",
      "greed search comment, comment length - 100: yta. you don’t get to tell her what she can and cannot wear. it’s not about your personal taste. you’re not her doctor. you have no business telling her what to wear. she’d be better off without you in her life if you were her doctor and not her partner.  also, i’m not sure what the dress code is, but it sounds like it‘s a formal event and she was wearing a dress that looked a bit more professional than the dress she wore.\n",
      "\n",
      "search with 2 beams comment, comment length - 100: yta. you don’t get to tell her what to wear. you can‘t tell her how to dress. you‘re not her doctor. you have no business telling her what she can and cannot wear. she‘s right, you’re being an asshole. you should‘ve been honest with her and let her make her own choices. you sound like you“re trying to fix her image” and that’s not what you did.\n",
      "\n",
      "search with 10 beams comment, comment length - 100: yta. you don’t get to dictate what she wears. she’s an adult. she can dress how she wants. you’re not an asshole for not wanting her to embarrass herself, but you are the asshole for how you said it. you could have just said “i’m not comfortable with this dress, but i’d rather you dress how you want” and left it at that. instead you chose to make it about you.\n",
      "\n"
     ]
    }
   ],
   "source": [
    "# Best Bart model\n",
    "post_url = \"https://www.reddit.com/r/AmItheAsshole/comments/12szhlr/aita_for_pressuring_my_so_to_change_her_dress/\"\n",
    "model_path = \"/Users/osama/Downloads/finalModels/bart/bart_balanced_subset_without_title_less_than_1024_double_comment\"\n",
    "\n",
    "runTest(post_url, model_path)"
   ]
  },
  {
   "cell_type": "code",
   "execution_count": 7,
   "metadata": {},
   "outputs": [
    {
     "name": "stdout",
     "output_type": "stream",
     "text": [
      "Post Title: aita for pressuring my so to change her dress before a professional event?\n",
      "\n",
      "Post Body: this morning my so was dressing up for a research symposium she's attending today. the one in which her senior class presented their research took place on monday, but this time around it is the underclassmen who are presenting their research. on monday, the seniors were instructed to dress in business casual, but today there was no explicit dress code for those just attending the event.      given this is still a professional academic event, i expected the norm to still be business casual. my so went with a dress that looked very much [like this](https://i.imgur.com/qtlvgd5.png) but a much brighter yellow, and sleeves that only went to mid-forearm.  i told her that maybe she shouldn't wear this dress and go with something business casual instead, to which she insisted that this was business casual. i replied saying it was casual but not business, and we went back and forth like that a little bit. ultimately it's her call what she wears and i don't typically try to change that, but this was a professional event, and i subjectively didn't think that dress looked appropriate the occasion.  i never was a big fan of this dress to begin with, and called it a grandma dress before, but the reason i had issue with it today wasn't out of personal distaste but for her professional image as these are the people she will be networking with for the rest of her career. at one point i said \"i just don't want you to embarrass yourself\" and her response seemed to indicate that she didn't believe that was my real reason, so i thought she suspected i was just saying this because i personally didn't like the dress.  after that back and forth, i thought about that last point and wanted to clarify that this wasn't about my personal taste. what i said came out something like this: \"i want you to express yourself and it makes me happy when i see you being happy in how you dress, but i only say this because this is a professional event and i want people to take you seriously\". for some context, many of her classmates  in her small cohort and even some faculty had often been dismissive of her inputs, so that was an insecurity she had shared with me before, so i really upset her when i said \"i just want people to take you seriously\" because she essentially heard \"people don't take you seriously\" as if i was trying to change her dress in an attempt to *fix* her image as if it was something needing fixing. i could have been more clear by saying \"people might find that dress a little silly\" or something else that made it clear i was only talking about the dress and not her personally, if that makes sense.  for more context, she is in healthcare, so she's worn scrubs to school almost every day, and she hasn't had many chances to express herself. in the end, she decided to go back and change into her scrubs, which i feel really guilty about.      i don't think she was ta at all, but is this a nah situation, or aita?\n",
      "\n",
      "Using settings\n",
      "model: t5\n",
      "with title: True\n",
      "sequence length: 512\n",
      "\n",
      "Loading model... /Users/osama/Downloads/finalModels/t5/t5_balanced_subset_with_title_less_than_512_double_comment\n",
      "\n",
      "Generating comments...\n",
      "\n",
      "greed search comment, comment length - 0: yta. you're not the asshole for being upset about her dress, but you are the assholey one for saying \"i just don't want you to embarrass yourself\" and then getting mad when she said it was business casual instead of business casual.\n",
      "\n",
      "search with 2 beams comment, comment length - 0: yta. it's not your place to dictate what she wears. you don't have to like it, but you shouldn't be pressuring her to change her dress.\n",
      "\n",
      "search with 10 beams comment, comment length - 0: yta. you don't get to dictate what your so wears. it's not your place to tell her what she can and can't wear.\n",
      "\n",
      "greed search comment, comment length - 100: yta. you're not the asshole for being upset about her dress, but you are the assholey one for saying \"i just don't want you to embarrass yourself\" and then getting mad when she said it was business casual instead of business casual. you can wear whatever you like, but that doesn't mean your so should be embarrassed by what she chooses to do in front of people who will probably see her work later on.\n",
      "\n",
      "search with 2 beams comment, comment length - 100: yta. it's not your place to dictate what she wears. you don't have to like it, but you shouldn't be pressuring her to change her dress. you can't force her to do something she doesn't want to do, and that's fine. but you can also tell her that she can wear whatever she wants, and she can choose how to dress. if you think she's going to embarrass herself, then you need to respect that.\n",
      "\n",
      "search with 10 beams comment, comment length - 100: yta. you don't get to dictate what your so wears. it's not your place to tell her what she can or can't wear. if she wants to be professional, she can wear what she wants. the fact that you didn't want her to embarrass herself doesn't give you the right to pressure her to change her dress. you could have just said \"hey, i'm happy to see you in how you dress, but i only say this because this is a professional event and i want people to take you seriously\".\n",
      "\n"
     ]
    }
   ],
   "source": [
    "# Best T5 model\n",
    "post_url = \"https://www.reddit.com/r/AmItheAsshole/comments/12szhlr/aita_for_pressuring_my_so_to_change_her_dress/\"\n",
    "model_path = \"/Users/osama/Downloads/finalModels/t5/t5_balanced_subset_with_title_less_than_512_double_comment\"\n",
    "\n",
    "runTest(post_url, model_path, model_type = \"t5\", withTitle = True, sequence_length = 512)"
   ]
  }
 ],
 "metadata": {
  "kernelspec": {
   "display_name": "Python 3.9.6 64-bit",
   "language": "python",
   "name": "python3"
  },
  "language_info": {
   "codemirror_mode": {
    "name": "ipython",
    "version": 3
   },
   "file_extension": ".py",
   "mimetype": "text/x-python",
   "name": "python",
   "nbconvert_exporter": "python",
   "pygments_lexer": "ipython3",
   "version": "3.9.6"
  },
  "orig_nbformat": 4,
  "vscode": {
   "interpreter": {
    "hash": "31f2aee4e71d21fbe5cf8b01ff0e069b9275f58929596ceb00d14d90e3e16cd6"
   }
  }
 },
 "nbformat": 4,
 "nbformat_minor": 2
}
